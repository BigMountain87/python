{
 "cells": [
  {
   "cell_type": "markdown",
   "metadata": {},
   "source": [
    "Chapter 8 모듈"
   ]
  },
  {
   "cell_type": "markdown",
   "metadata": {},
   "source": [
    "코드를 분리하고 공유하는 기능 -> 라이브러리\n",
    "\n",
    "표준 모듈, 외부 모듈\n",
    "\n",
    "명령어 :\n",
    "\n",
    "import 모듈이름\n",
    "\n",
    "import 모듈이름 as 약칭\n",
    "\n",
    "from 모듈이름 import 가져오고 싶은 변수 또는 함수\n"
   ]
  },
  {
   "cell_type": "markdown",
   "metadata": {},
   "source": [
    "* math 모듈 \n",
    "\n",
    "수학과 관련 된 기능 -> numpy로 대부분 사용하기 때문에 잘 안씀"
   ]
  },
  {
   "cell_type": "code",
   "execution_count": 4,
   "metadata": {},
   "outputs": [
    {
     "name": "stdout",
     "output_type": "stream",
     "text": [
      "0.8414709848078965\n",
      "1\n",
      "3\n"
     ]
    }
   ],
   "source": [
    "import math\n",
    "\n",
    "print(math.sin(1))\n",
    "\n",
    "print(math.floor(1)) # 내림\n",
    "\n",
    "print(math.ceil(2.5)) # 올림\n",
    "\n"
   ]
  },
  {
   "cell_type": "markdown",
   "metadata": {},
   "source": [
    "from 모듈 이름 import 가져오고 싶은 함수\n",
    "\n",
    "- 장점 : 다양한 함수를 계속 입력하는 것의 비효율성\n",
    "\n",
    "-> math를 붙이지 않고도 사용할 수 있음\n",
    "\n",
    "-> 같은 함수명이 있는 다른 모듈이 있다면 함수가 중복되기 때문에 무조건적으로 사용 X"
   ]
  },
  {
   "cell_type": "code",
   "execution_count": 5,
   "metadata": {},
   "outputs": [
    {
     "name": "stdout",
     "output_type": "stream",
     "text": [
      "0.8414709848078965\n",
      "2\n"
     ]
    }
   ],
   "source": [
    "from math import sin, cos, tan, floor, ceil\n",
    "\n",
    "print(sin(1))\n",
    "\n",
    "print(floor(2.5))"
   ]
  },
  {
   "cell_type": "markdown",
   "metadata": {},
   "source": [
    "import 모듈 as 사용하고 싶은 식별자\n",
    "\n",
    "모듈 이름이 너무 길어서 짧게 줄여서 사용하고 싶은 경우 사용"
   ]
  },
  {
   "cell_type": "code",
   "execution_count": 7,
   "metadata": {},
   "outputs": [
    {
     "name": "stdout",
     "output_type": "stream",
     "text": [
      "0.8414709848078965\n",
      "2\n"
     ]
    }
   ],
   "source": [
    "import math as m\n",
    "\n",
    "print(m.sin(1))\n",
    "\n",
    "print(m.floor(2.5))"
   ]
  },
  {
   "cell_type": "markdown",
   "metadata": {},
   "source": [
    "* 개발과정에서 사용할 만한 모듈"
   ]
  },
  {
   "cell_type": "markdown",
   "metadata": {},
   "source": [
    "1. random 모듈 : 난수발생에 관련된 모듈"
   ]
  },
  {
   "cell_type": "code",
   "execution_count": 8,
   "metadata": {},
   "outputs": [
    {
     "name": "stdout",
     "output_type": "stream",
     "text": [
      "# random 모듈\n",
      "- random(): 0.5920444503608632\n",
      "- uniform(10, 20): 13.774213474517811\n",
      "- randrange(10) 5\n"
     ]
    }
   ],
   "source": [
    "import random\n",
    "print(\"# random 모듈\")\n",
    "\n",
    "# random(): 0.0 <= x <1.0 사이의 float를 리턴합니다.\n",
    "print(\"- random():\",random.random())\n",
    "\n",
    "# uniform(min,max): 지정한 범위 사이의 float를 리턴합니다.\n",
    "print(\"- uniform(10, 20):\", random.uniform(10,20))\n",
    "\n",
    "# randrange(): 지정한 범위의 int를 리턴합니다.\n",
    "# - randrage(max): 0부터 max 사이의 값을 리턴합니다.\n",
    "# - randrage(min, max): min부터 max 사이의 값을 리턴합니다.\n",
    "print(\"- randrange(10)\", random.randrange(10))"
   ]
  },
  {
   "cell_type": "code",
   "execution_count": 11,
   "metadata": {},
   "outputs": [
    {
     "name": "stdout",
     "output_type": "stream",
     "text": [
      "choice 함수 :  1\n",
      "shuffle 함수 :  None\n",
      "sample 함수 :  [4, 1]\n"
     ]
    }
   ],
   "source": [
    "list = [1, 2, 3, 4, 5]\n",
    "# choice(list) : 리스트 내부에 있는 요소를 랜덤하게 선택\n",
    "print(\"choice 함수 : \", random.choice(list))\n",
    "\n",
    "# shuffle(list) : 리스트 내부에 있는 요소를 랜덤하게 섞음\n",
    "print(\"shuffle 함수 : \", random.shuffle(list))\n",
    "\n",
    "# sample(list, k=숫자) : 리스트의 요소 중에 k개를 뽑음\n",
    "print(\"sample 함수 : \", random.sample(list,k=2))"
   ]
  }
 ],
 "metadata": {
  "kernelspec": {
   "display_name": "base",
   "language": "python",
   "name": "python3"
  },
  "language_info": {
   "codemirror_mode": {
    "name": "ipython",
    "version": 3
   },
   "file_extension": ".py",
   "mimetype": "text/x-python",
   "name": "python",
   "nbconvert_exporter": "python",
   "pygments_lexer": "ipython3",
   "version": "3.12.4"
  }
 },
 "nbformat": 4,
 "nbformat_minor": 2
}
