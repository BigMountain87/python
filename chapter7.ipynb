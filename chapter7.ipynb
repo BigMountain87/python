{
 "cells": [
  {
   "cell_type": "markdown",
   "metadata": {},
   "source": [
    "Chapter 7 함수\n",
    "\n"
   ]
  },
  {
   "cell_type": "markdown",
   "metadata": {},
   "source": [
    "함수 = 코드의 집합\n",
    "\n",
    "관련 용어\n",
    "\n",
    "* 매개변수 : 함수의 입력값, 함수 호출 시 괄호 내부에 넣는 여러가지 자료\n",
    "\n",
    "* 리턴값 : 함수의 출력값, 함수를 호출하여 최종적으로 나오는 결과\n"
   ]
  },
  {
   "cell_type": "markdown",
   "metadata": {},
   "source": [
    "def 함수이름(매개변수1, 매개변수2):\n",
    "\n",
    "    명령어"
   ]
  },
  {
   "cell_type": "code",
   "execution_count": 2,
   "metadata": {},
   "outputs": [
    {
     "name": "stdout",
     "output_type": "stream",
     "text": [
      "안녕하세요\n",
      "안녕하세요\n",
      "안녕하세요\n",
      "안녕하세요\n",
      "안녕하세요\n"
     ]
    }
   ],
   "source": [
    "def print_n_times(value, n):\n",
    "    for i in range(n):\n",
    "        print(value)\n",
    "\n",
    "print_n_times(\"안녕하세요\", 5)"
   ]
  },
  {
   "cell_type": "code",
   "execution_count": null,
   "metadata": {},
   "outputs": [
    {
     "name": "stdout",
     "output_type": "stream",
     "text": [
      "6\n"
     ]
    }
   ],
   "source": [
    "def addition(a,b):\n",
    "    return a + b\n",
    "\n",
    "# 함수 선언\n",
    "# def 함수명(매개변수1, 매개변수2):\n",
    "def function_k(a, b):\n",
    "# 앞에 공백 4칸 또는 탭 사용해서 들여쓰기 (Indent) python 문법\n",
    "# VSCode를 사용하면 자동적으로 4칸이 띄워짐, 탭 대신에 공백 4칸이 좋음\n",
    "    sum = addition(a,b)\n",
    "    mul = sum * 2\n",
    "\n",
    "    return mul # return 변수 -> 변수값이 최종 리턴 \n",
    "\n",
    "# 함수 호출\n",
    "# 함수명(매개변수값 입력)\n",
    "print(function_k(1,2))\n"
   ]
  },
  {
   "cell_type": "markdown",
   "metadata": {},
   "source": [
    "기본 매개변수 : 매개변수 값을 입력을 하지 않았을 경우 기본으로 정해진 값"
   ]
  },
  {
   "cell_type": "code",
   "execution_count": 10,
   "metadata": {},
   "outputs": [
    {
     "name": "stdout",
     "output_type": "stream",
     "text": [
      "24\n",
      "14\n"
     ]
    }
   ],
   "source": [
    "# 기본 매개변수 정하는 법, 매개변수에 = 값으로 하면\n",
    "# 기본 매개변수 설정이 가능\n",
    "#                 *****   \n",
    "def function_k(a, b = 10):\n",
    "    sum = a + b\n",
    "    mul = sum * 2\n",
    "\n",
    "    return mul # return 변수 -> 변수값이 최종 리턴 \n",
    "\n",
    "print(function_k(2))\n",
    "print(function_k(2,5))"
   ]
  },
  {
   "cell_type": "markdown",
   "metadata": {},
   "source": [
    "가변 매개변수 : 매개변수를 원하는 만큼 받을 수 있음"
   ]
  },
  {
   "cell_type": "code",
   "execution_count": 11,
   "metadata": {},
   "outputs": [
    {
     "name": "stdout",
     "output_type": "stream",
     "text": [
      "안녕하세요\n",
      "즐거운\n",
      "파이썬 프로그래밍\n",
      "\n",
      "안녕하세요\n",
      "즐거운\n",
      "파이썬 프로그래밍\n",
      "\n",
      "안녕하세요\n",
      "즐거운\n",
      "파이썬 프로그래밍\n",
      "\n"
     ]
    }
   ],
   "source": [
    "def print_n_times(n, *values):\n",
    "    #n 번 반복합니다.\n",
    "    for i in range(n):\n",
    "        #values는 리스트처럼 활용합니다.\n",
    "        for value in values:\n",
    "            print(value)\n",
    "        #단순한 줄바꿈\n",
    "        print()\n",
    "\n",
    "# 함수를 호출합니다.\n",
    "print_n_times(3, \"안녕하세요\", \"즐거운\",\"파이썬 프로그래밍\")"
   ]
  },
  {
   "cell_type": "code",
   "execution_count": 13,
   "metadata": {},
   "outputs": [
    {
     "name": "stdout",
     "output_type": "stream",
     "text": [
      "안녕하세요\n",
      "즐거운\n",
      "파이썬 프로그래밍\n",
      "\n",
      "안녕하세요\n",
      "즐거운\n",
      "파이썬 프로그래밍\n",
      "\n",
      "안녕하세요\n",
      "즐거운\n",
      "파이썬 프로그래밍\n",
      "\n"
     ]
    }
   ],
   "source": [
    "list = [\"안녕하세요\", \"즐거운\",\"파이썬 프로그래밍\"]\n",
    "def print_n_times(n, values):\n",
    "    #n 번 반복합니다.\n",
    "    for i in range(n):\n",
    "        #values는 리스트처럼 활용합니다.\n",
    "        for value in values:\n",
    "            print(value)\n",
    "        #단순한 줄바꿈\n",
    "        print()\n",
    "\n",
    "# 함수를 호출합니다.\n",
    "print_n_times(3, list)"
   ]
  },
  {
   "cell_type": "code",
   "execution_count": 7,
   "metadata": {},
   "outputs": [
    {
     "name": "stdout",
     "output_type": "stream",
     "text": [
      "width :  10.0\n",
      "넓이 : 200.0\n",
      "둘레 : 60.0\n"
     ]
    }
   ],
   "source": [
    "# 1. 기본 함수 형태는 갖추기, 함수명, 매개변수 정도 작성\n",
    "# 2. 출력값 먼저 생각 후, 출력값을 계산\n",
    "# 3. 출력 값을 return 뒤에 추가\n",
    "def calculate_area_and_perimeter(width, height):\n",
    "    #sum = a + b\n",
    "    #mul = sum * 2\n",
    "    area = width * height # 넓이 = 가로 * 세로 \n",
    "    perimeter = (width + height) *2\n",
    "    print(\"width : \", width)\n",
    "    return area, perimeter # return 변수 -> 변수값이 최종 리턴 \n",
    "\n",
    "# 사용자 입력 받기\n",
    "width = float(input(\"직사각형의 가로 길이를 입력하세요: \"))\n",
    "height = float(input(\"직사각형의 세로 길이를 입력하세요: \"))\n",
    "\n",
    "# 함수호출 하여 넓이와 둘레 계산\n",
    "area, perimeter = calculate_area_and_perimeter(width, height)\n",
    "print(f\"넓이 : {area}\")\n",
    "print(f\"둘레 : {perimeter}\")"
   ]
  },
  {
   "cell_type": "markdown",
   "metadata": {},
   "source": [
    "문제 설명 : 직사각형의 넓이와 둘레를 계산하는 함수를 작성해보세요. 함수는 직사각형의 가로와 세로를 입력 \n",
    "\n",
    "받아 넓이와 둘레를 계산하여 반환 해야합니다.\n",
    "\n",
    "넓이 : 가로 x 세로\n",
    "\n",
    "둘레 : (가로 + 세로) x  2\n",
    "\n",
    "요구 사항:\n",
    " \n",
    " calculate_area_and_perimeter(width, height)라는 함수를 정의하세요.\n",
    " \n",
    " 함수는 두 값을 반환해야 합니다: 넓이와 둘레.\n",
    "\n",
    " 함수 내부에서 계산된 넓이와 둘레를 출력하는 부분도 추가할 수 있습니다.\n",
    " \n",
    " 함수를 호출하고, 가로와 세로 값을 사용자가 직접 입력하도록 하세요 – input(), 문자열\n",
    "Float 변환\n",
    "\n",
    "\n",
    "\n"
   ]
  },
  {
   "cell_type": "markdown",
   "metadata": {},
   "source": [
    "1. 문제를 읽고, 생각 어떤식으로 계산이 될까?\n",
    "\n",
    "2. 생각한 내용을 파이썬 코드로 전환하는 과정\n",
    "\n",
    "    - 문법적인 구문을 잘 파악을 해야함\n",
    "\n",
    "        - 장기간 -> 파이썬 내부 함수, if문, 반복문 등 문법X 응용O\n",
    "\n",
    "        - 단기간 -> 함수 형태로 작성하지말고 변수값 있는대로 추가해서 결과만 먼저 얻기"
   ]
  },
  {
   "cell_type": "code",
   "execution_count": 23,
   "metadata": {},
   "outputs": [
    {
     "name": "stdout",
     "output_type": "stream",
     "text": [
      "3900\n",
      "320\n"
     ]
    }
   ],
   "source": [
    "# 가로 : width, 세로 : height, 넓이: area 가정\n",
    "# 둘레 : perimeter\n",
    "# 한글로 변수 가능\n",
    "\n",
    "width = 30\n",
    "height = 130\n",
    "area = width * height\n",
    "print(area)\n",
    "perimeter = (width + height) * 2\n",
    "print(perimeter)\n",
    "\n",
    "\n",
    "def calculate_area_and_perimeter(width, height):\n",
    "    # width = 100\n",
    "    # height = 30\n",
    "    area = width * height\n",
    "    print(area)\n",
    "    perimeter = (width + height) * 2\n",
    "    print(perimeter)\n",
    "\n",
    "    return area, perimeter\n"
   ]
  },
  {
   "cell_type": "code",
   "execution_count": 27,
   "metadata": {},
   "outputs": [
    {
     "name": "stdout",
     "output_type": "stream",
     "text": [
      "4\n"
     ]
    }
   ],
   "source": [
    "#number # 입력숫자\n",
    "#square #함수명\n",
    "#result # 반환값\n",
    "\n",
    "\n",
    "# result = number^2 #-> 문법을 찾아서 수정\n",
    "number = 10\n",
    "result = number**2\n",
    "\n",
    "def square(number):\n",
    "    #number = 10\n",
    "    result = number**2\n",
    "    return result\n",
    "\n",
    "print(square(2))"
   ]
  },
  {
   "cell_type": "markdown",
   "metadata": {},
   "source": [
    "키워드 매개변수"
   ]
  },
  {
   "cell_type": "code",
   "execution_count": 9,
   "metadata": {},
   "outputs": [
    {
     "name": "stdout",
     "output_type": "stream",
     "text": [
      "width :  100\n",
      "20000 600\n",
      "width :  200\n",
      "20000 600\n",
      "width :  100\n",
      "20000 600\n",
      "width :  100\n",
      "20000 600\n"
     ]
    }
   ],
   "source": [
    "# 함수를 호출할 때 키워드를 사용하는 방식\n",
    "\n",
    "# 일반적 방식, 매개변수를 직접 넣는 방식\n",
    "width1 = 100\n",
    "height1 = 200\n",
    "area, perimeter = calculate_area_and_perimeter(width1, height1)\n",
    "print(area, perimeter)\n",
    "\n",
    "area, perimeter = calculate_area_and_perimeter(height1,width1 )\n",
    "print(area, perimeter)\n",
    "\n",
    "\n",
    "# 키워드 매개 변수\n",
    "\n",
    "area, perimeter = calculate_area_and_perimeter(width = width1, height = height1)\n",
    "print(area, perimeter)\n",
    "\n",
    "area, perimeter = calculate_area_and_perimeter( height = height1,width = width1)\n",
    "print(area, perimeter)\n",
    "# 키워드 매개변수 장점\n",
    "# 1. 가독성 : 매개변수를 명시하기 때문에 코드의도가 명확해집니다.\n",
    "# 2. 순서와 상관이 없음 : 매개변수 순서에 관계없이 함수값을 전달 할 수 있습니다."
   ]
  },
  {
   "cell_type": "markdown",
   "metadata": {},
   "source": [
    "함수의 return 키워드\n",
    "\n",
    "- 함수를 실행했던 위치로 돌아가게 함"
   ]
  },
  {
   "cell_type": "code",
   "execution_count": 10,
   "metadata": {},
   "outputs": [
    {
     "name": "stdout",
     "output_type": "stream",
     "text": [
      "A 위치입니다.\n"
     ]
    }
   ],
   "source": [
    "def return_test():\n",
    "    print(\"A 위치입니다.\")\n",
    "    return\n",
    "    print(\"B 위치입니다.\")\n",
    "\n",
    "# 함수를 호출합니다.\n",
    "return_test()"
   ]
  },
  {
   "cell_type": "code",
   "execution_count": null,
   "metadata": {},
   "outputs": [
    {
     "name": "stdout",
     "output_type": "stream",
     "text": [
      "4\n"
     ]
    }
   ],
   "source": [
    "def square(number):\n",
    "    return number **2\n",
    "\n",
    "print(square(2))\n",
    "# 함수가 중첩되어 있는 경우는 안의 함수부터 실행합니다."
   ]
  },
  {
   "cell_type": "code",
   "execution_count": null,
   "metadata": {},
   "outputs": [],
   "source": [
    "def error_check(number):\n",
    "    # 짝수면 오류, -1 반환\n",
    "    #홀수면 정상, 0 반환\n",
    "    if number % 2 == 0:\n",
    "        return -1\n",
    "    else:\n",
    "        return 0\n",
    "\n",
    "\n",
    "\n"
   ]
  },
  {
   "cell_type": "markdown",
   "metadata": {},
   "source": [
    "범위 내부의 정수를 모두 더하는 함수"
   ]
  },
  {
   "cell_type": "code",
   "execution_count": 13,
   "metadata": {},
   "outputs": [
    {
     "name": "stdout",
     "output_type": "stream",
     "text": [
      "0 to 100: 5050\n",
      "0 to 1000: 500500\n"
     ]
    }
   ],
   "source": [
    "def sum_all(start,end):\n",
    "    # 변수를 선언합니다.\n",
    "    output = 0\n",
    "    # 반복문을 돌려 숫자를 더합니다.\n",
    "    for i in range(start,end + 1):\n",
    "        output += i\n",
    "    # 리턴 합니다.\n",
    "    return output\n",
    "\n",
    "# 함수를 호출합니다.\n",
    "print(\"0 to 100:\", sum_all(0,100))\n",
    "print(\"0 to 1000:\", sum_all(0,1000))"
   ]
  },
  {
   "cell_type": "markdown",
   "metadata": {},
   "source": [
    "재귀함수"
   ]
  },
  {
   "cell_type": "code",
   "execution_count": null,
   "metadata": {},
   "outputs": [
    {
     "name": "stdout",
     "output_type": "stream",
     "text": [
      "0!: 1\n",
      "1!: 1\n",
      "2!: 2\n",
      "3!: 6\n",
      "4!: 24\n",
      "5!: 120\n"
     ]
    }
   ],
   "source": [
    "# 반복문으로 팩토리얼 구하기\n",
    "\n",
    "# 함수를 선언합니다.\n",
    "def factorial(n):\n",
    "    # 변수를 선언합니다.\n",
    "    output = 1\n",
    "    # 반복문을 돌려 숫자를 더합니다.\n",
    "    for i in range(1, n + 1):\n",
    "        output *= i # output = output * i\n",
    "    # for loop 단계별\n",
    "    # range(1,n+1) : 1에서 n까지 1씩 증가\n",
    "    # range(start,end,step) : start에서 step 만큼 증가하여 end -1까지 증가\n",
    "    # i = 1, (연산전) output = 1 -> (연산후) output = 1 * 1 = 1\n",
    "    # i = 2, (연산전) output = 1 -> (연산후) output = 1 * 2 = 2\n",
    "    # i = 3, (연산전) output = 1 * 2 -> (연산후) output = 1 * 2 * 3\n",
    "    # i = 4, (연산전) output = 1* 2 * 3 -> (연산후) output = 1* 2 * 3 * 4\n",
    "    # .........\n",
    "    # i = n-1 (연산전) output = 1*2*3*...*(n-2) -> (연산후) output 1*2*3*4*...*(n-1)\n",
    "    # i = n (연산전) output = 1*2*3*...*(n-2) -> (연산후) output 1*2*3*4*...*(n-1)*n\n",
    "\n",
    "\n",
    "    # 리턴합니다.\n",
    "    return output\n",
    "\n",
    "# 함수를 호출합니다.\n",
    "for i in range(1,6):\n",
    "    print(f\"{i}!: {factorial(i)}\")"
   ]
  },
  {
   "cell_type": "code",
   "execution_count": null,
   "metadata": {},
   "outputs": [
    {
     "name": "stdout",
     "output_type": "stream",
     "text": [
      "1!: 1\n",
      "2!: 2\n",
      "3!: 6\n",
      "4!: 24\n",
      "5!: 120\n"
     ]
    }
   ],
   "source": [
    "# 재귀함수로 팩토리얼 구하기\n",
    "\n",
    "def factorial(n): # n = 4,\n",
    "    # n이 0이라면 1을 리턴 \n",
    "    if n == 0:\n",
    "        return 1\n",
    "    # n이 0이 아니라면 n*(n-1)!을 리턴\n",
    "    else:\n",
    "        return n * factorial(n-1) # return 부분에 선언된 함수가 호출됨\n",
    "        # 본인 스스로가 다시 호출됨 : 재귀함수\n",
    "\n",
    "# n = 4,\n",
    "# 1. factorial(4) 가 호출이 됩니다. factorial(4) = 4*3*2*1*1\n",
    "# 2. return 4 * factorial(3) -> 4* factorial(3) = 4*3*2*1*1\n",
    "# 3. factorial(3)이 호출됩니다 -> factorial(3) = 3*2*1*1\n",
    "# 4. return 3*factorial(3-1) 리턴 -> 3* factorial(2) = 3* 2* 1*1\n",
    "# 5. factorial(2) 호출-> factorial(2) = 2* 1*1\n",
    "# 6. return 2*factrorial(2-1) -> return 2* factorial(1) = 2* 1*1\n",
    "# 7. factorial(1) 호출  - factorial(1) = 1*1\n",
    "# 8. return 1*factorial(0) 호출  -> 1 * 1\n",
    "# 9. factorial(0) = 1 리턴\n",
    "\n",
    "# 함수를 호출합니다.\n",
    "for i in range(1,6):\n",
    "    print(f\"{i}!: {factorial(i)}\")\n"
   ]
  },
  {
   "cell_type": "markdown",
   "metadata": {},
   "source": [
    "파이썬의 독특한 자료형\n",
    "\n",
    "1. 리스트 : 가장 많이 사용되는 자료형, 다른 언어에서는 배열\n",
    "\n",
    "- 특징 : 가변(mutable) 자료형\n",
    "\n",
    "- 형식 : [  ]에 ,로 구분되는 자료가 들어가 있음"
   ]
  },
  {
   "cell_type": "code",
   "execution_count": 16,
   "metadata": {},
   "outputs": [
    {
     "name": "stdout",
     "output_type": "stream",
     "text": [
      "[1, 3.5, 'hello', [1, 2, 3]]\n"
     ]
    }
   ],
   "source": [
    "# 리스트 예시\n",
    "my_list = [1, 3.5, \"hello\", [1, 2, 3]]\n",
    "print(my_list)"
   ]
  },
  {
   "cell_type": "markdown",
   "metadata": {},
   "source": [
    "\n",
    "2. 튜플 (Tuple) : 리스트와 비슷하지만, 불변(immutable) 자료형, 한번 생성된 튜플은 그내용을 변경할 수가 없음\n",
    "\n",
    "- 특징 : 가변성이 없기 때문에 튜플은 좀더 빠르고, 함수의 반환값이나 딕셔너릭의 키값으로 사용됨\n",
    "\n",
    "- 형태 : ()에서 , 로 구분"
   ]
  },
  {
   "cell_type": "code",
   "execution_count": 17,
   "metadata": {},
   "outputs": [
    {
     "name": "stdout",
     "output_type": "stream",
     "text": [
      "(1, 2, 3, 'apple')\n"
     ]
    }
   ],
   "source": [
    "my_tuple = (1, 2, 3, \"apple\")\n",
    "print(my_tuple)"
   ]
  },
  {
   "cell_type": "markdown",
   "metadata": {},
   "source": [
    "3. 셋 (Set) : 말 그대로 집합 자료형\n",
    "\n",
    "- 특징 : 순서가 없기 때문에 인덱싱이나 슬라이싱을 사용할 수가 없습니다.\n",
    "\n",
    "- 특징2 : 중복된 값을 자동 제거하고, 집합 연산(합집합, 교집합, 차집합 등)을 지원합니다.\n",
    "\n",
    "- 형태 : {}에 ,로 요소가 나열 되어 있음"
   ]
  },
  {
   "cell_type": "code",
   "execution_count": 29,
   "metadata": {},
   "outputs": [
    {
     "name": "stdout",
     "output_type": "stream",
     "text": [
      "{1, 2, 3, 5, 6}\n"
     ]
    }
   ],
   "source": [
    "my_set = {1, 2, 3, 4, 5}\n",
    "my_set.add(6)\n",
    "my_set.remove(4)\n",
    "print(my_set) # {1, 2, 3, 5, 6}"
   ]
  },
  {
   "cell_type": "markdown",
   "metadata": {},
   "source": [
    "4. 딕셔너리(Dictionary) : 키(key), 값(value) 쌍으로 묶어서 데이터를 저장하는 자료형. 다른 언어에서는 맵(Map) 또는 해시맵(Hashmap)으로 알려져 있다.\n",
    "\n",
    "- 특징 : key - value이 쌍으로 되어있음\n",
    "\n",
    "- 형태 : {\"key\":\"value\", \"key2\":\"value2\"}"
   ]
  },
  {
   "cell_type": "code",
   "execution_count": 32,
   "metadata": {},
   "outputs": [
    {
     "name": "stdout",
     "output_type": "stream",
     "text": [
      "Alice\n"
     ]
    }
   ],
   "source": [
    "my_dict = {\"name\":\"Alice\",\"age\":25,\"city\":\"New York\"}\n",
    "print(my_dict[\"name\"])"
   ]
  },
  {
   "cell_type": "markdown",
   "metadata": {},
   "source": [
    "튜플 (Tuple)\n",
    "\n",
    "- 리스트와 유사한 자료형\n",
    "\n",
    "- 한번 결정된 요소는 바꿀 수 없음(immutable)"
   ]
  },
  {
   "cell_type": "code",
   "execution_count": 35,
   "metadata": {},
   "outputs": [
    {
     "name": "stdout",
     "output_type": "stream",
     "text": [
      "30\n"
     ]
    }
   ],
   "source": [
    "tuple_test = (10, 20, 30)\n",
    "\n",
    "print(tuple_test[2])"
   ]
  },
  {
   "cell_type": "code",
   "execution_count": null,
   "metadata": {},
   "outputs": [
    {
     "name": "stdout",
     "output_type": "stream",
     "text": [
      "a:  10\n",
      "b:  20\n",
      "c:  30\n",
      "d:  40\n"
     ]
    }
   ],
   "source": [
    "# 리스트와 튜플에서만 가능한 기능\n",
    "[a,b] = [10,20]\n",
    "(c,d) = (30,40)\n",
    "\n",
    "print(\"a: \",a)\n",
    "print(\"b: \",b)\n",
    "print(\"c: \",c)\n",
    "print(\"d: \",d)"
   ]
  },
  {
   "cell_type": "code",
   "execution_count": 37,
   "metadata": {},
   "outputs": [
    {
     "name": "stdout",
     "output_type": "stream",
     "text": [
      "# 괄호가 없는 튜플의 값과 자료형 출력\n",
      "tuple_test: (10, 20, 30, 40)\n",
      "type(tuple_test:) <class 'tuple'>\n",
      "\n",
      "# 괄호가 없는 튜플을 활용한 할당\n",
      "a: 10\n",
      "b: 20\n",
      "c: 30\n"
     ]
    }
   ],
   "source": [
    "# 괄호가 없는 튜플\n",
    "tuple_test = 10, 20, 30, 40\n",
    "print(\"# 괄호가 없는 튜플의 값과 자료형 출력\")\n",
    "print(\"tuple_test:\", tuple_test)\n",
    "print(\"type(tuple_test:)\", type(tuple_test))\n",
    "print()\n",
    "\n",
    "# 괄호가 없는 튜플 활요\n",
    "a, b, c = 10, 20, 30\n",
    "print(\"# 괄호가 없는 튜플을 활용한 할당\")\n",
    "print(\"a:\",a)\n",
    "print(\"b:\",b)\n",
    "print(\"c:\",c)"
   ]
  },
  {
   "cell_type": "markdown",
   "metadata": {},
   "source": [
    "함수의 매개변수로 함수 전달하기"
   ]
  },
  {
   "cell_type": "code",
   "execution_count": 39,
   "metadata": {},
   "outputs": [
    {
     "name": "stdout",
     "output_type": "stream",
     "text": [
      "안녕하세요\n",
      "안녕하세요\n",
      "안녕하세요\n",
      "안녕하세요\n",
      "안녕하세요\n",
      "안녕하세요\n",
      "안녕하세요\n",
      "안녕하세요\n",
      "안녕하세요\n",
      "안녕하세요\n"
     ]
    }
   ],
   "source": [
    "# 매개변수로 받은 함수를 10번 호출하는 함수\n",
    "def call_10_times(func):\n",
    "    for i in range(10):\n",
    "        func()\n",
    "\n",
    "# 간단한 출력하는 함수\n",
    "def print_hello():\n",
    "    print(\"안녕하세요\")\n",
    "\n",
    "# 조합하기\n",
    "call_10_times(print_hello)"
   ]
  },
  {
   "cell_type": "markdown",
   "metadata": {},
   "source": [
    "filter() 함수와 map() 함수\n",
    "\n",
    "- 함수를 매개변수로 전달하는 대표적인 표준함수"
   ]
  },
  {
   "cell_type": "markdown",
   "metadata": {},
   "source": [
    "map(함수, 리스트)\n",
    "\n",
    "filter(함수, 리스트)"
   ]
  },
  {
   "cell_type": "code",
   "execution_count": null,
   "metadata": {},
   "outputs": [
    {
     "name": "stdout",
     "output_type": "stream",
     "text": [
      "[1, 2, 3, 4, 5]\n",
      "#map() 함수의 실행결과\n",
      "map(power, list_input_a): <map object at 0x000001BFDF6B0880>\n",
      "map(power, list_input_a): [1, 4, 9, 16, 25]\n",
      "\n",
      "#filter() 함수의 실행결과\n",
      "filter(under_3, output_b): <filter object at 0x000001BFD8DF2BC0>\n",
      "filter(under_3, output_b): [1, 2]\n"
     ]
    }
   ],
   "source": [
    "# 함수를 선언합니다.\n",
    "def power(item):\n",
    "    return item*item\n",
    "\n",
    "def under_3(item):\n",
    "    return item < 3\n",
    "\n",
    "# 변수를 선언합니다.\n",
    "list_input_a = [1, 2, 3, 4, 5]\n",
    "\n",
    "# 1. map 함수 : 함수를 적용해서 데이터를 변환\n",
    "# - 사용처 : 데이터 변환 -> 리스트 값이 있으면 형변환 전체 할 때\n",
    "#            동일한 작업을 반복할 때\n",
    "# 2. lambda 함수 : 간단하게 함수를 선언하는 방법\n",
    "# lambda 매개변수 : 리턴값\n",
    "# lambda x: x*x\n",
    "# def square(x):\n",
    "#    return x*x\n",
    "\n",
    "# map() 함수를 사용합니다.\n",
    "output_a = map(lambda x: x*x, list_input_a)\n",
    "print(\"#map() 함수의 실행결과\")\n",
    "print(\"map(power, list_input_a):\",output_a)\n",
    "print(\"map(power, list_input_a):\",list(output_a))\n",
    "print()\n",
    "\n",
    "# 2. filter함수는 조건에 따라 데이터를 걸러내는 데 사용\n",
    "# 핵심 : 조건\n",
    "# - 사용처 : 조건에 따라 데이터를 필터링, 특정 조건을 만족하는 데이터 추출\n",
    "# filter() 함수를 사용합니다.\n",
    "output_b = filter(lambda x: x< 3, list_input_a)\n",
    "print(\"#filter() 함수의 실행결과\")\n",
    "print(\"filter(under_3, output_b):\", output_b)\n",
    "print(\"filter(under_3, output_b):\", list(output_b))\n"
   ]
  },
  {
   "cell_type": "code",
   "execution_count": 50,
   "metadata": {},
   "outputs": [
    {
     "name": "stdout",
     "output_type": "stream",
     "text": [
      "Requirement already satisfied: numpy in c:\\users\\hkit\\appdata\\local\\programs\\python\\python313\\lib\\site-packages (2.2.0)\n",
      "[False False False False  True]\n",
      "[4]\n"
     ]
    },
    {
     "name": "stderr",
     "output_type": "stream",
     "text": [
      "\n",
      "[notice] A new release of pip is available: 24.2 -> 24.3.1\n",
      "[notice] To update, run: python.exe -m pip install --upgrade pip\n"
     ]
    }
   ],
   "source": [
    "# numpy\n",
    "!pip install numpy\n",
    "import numpy as np #모듈, 라이브러리\n",
    "# numpy라는 모듈을 np라는 이름으로 읽어오기\n",
    "list_input_a = np.array([1,2,3,3,4])\n",
    "print(list_input_a>3)\n",
    "print(list_input_a[list_input_a > 3])"
   ]
  },
  {
   "cell_type": "markdown",
   "metadata": {},
   "source": [
    "파일처리\n",
    "\n",
    "- 파일 저장\n",
    "\n",
    "- 파일 읽기"
   ]
  },
  {
   "cell_type": "markdown",
   "metadata": {},
   "source": [
    "close() 함수\n",
    "\n",
    "파일객체.close()"
   ]
  },
  {
   "cell_type": "code",
   "execution_count": null,
   "metadata": {},
   "outputs": [],
   "source": [
    "# 파일을 엽니다\n",
    "# file 이라는 것이 파일객체\n",
    "file = open(\"basic.txt\",\"w\")\n",
    "# 파일에 텍스트를 씁니다.\n",
    "file.write(\"Hello Python Programming...!\")\n",
    "\n",
    "# 파일을 닫습니다.\n",
    "file.close()"
   ]
  },
  {
   "cell_type": "code",
   "execution_count": null,
   "metadata": {},
   "outputs": [],
   "source": [
    "# 파일을 엽니다\n",
    "# file 이라는 것이 파일객체\n",
    "file = open(\"basic2.txt\",\"w\")\n",
    "# open(filename,mode)\n",
    "# mode = 'r', 'w', 'a', 'b'\n",
    "# 'r' : 읽기 모드, 파일이 존재해야하며 읽기만 함\n",
    "# 'w' : 쓰기 모드, 존재하면 덮어쓰고, 없으면 새로만든다\n",
    "# 'a' : 추가 모드, 기존 파일에 데이터를 추가함\n",
    "# 'b' : 바이너리모드, 바이너리 파일을 처리할 때사용, 텍스트 모드가\n",
    "# 아닌 바이너리 파일을 읽고 쓸때 사용함\n",
    "\n",
    "# 파일이 없으면 생성이 새로 됨\n"
   ]
  },
  {
   "cell_type": "code",
   "execution_count": 55,
   "metadata": {},
   "outputs": [
    {
     "data": {
      "text/plain": [
       "28"
      ]
     },
     "execution_count": 55,
     "metadata": {},
     "output_type": "execute_result"
    }
   ],
   "source": [
    "file.write(\"Hello Python Programming...!\")\n"
   ]
  },
  {
   "cell_type": "code",
   "execution_count": null,
   "metadata": {},
   "outputs": [],
   "source": [
    "file.close() # 이 구문이 실행되어야 파일이 저장됨"
   ]
  },
  {
   "cell_type": "code",
   "execution_count": null,
   "metadata": {},
   "outputs": [],
   "source": [
    "# 1. 파일을 엽니다 (파일 객체 생성)\n",
    "# file 이라는 것이 파일객체\n",
    "file = open(\"basic.txt\",\"w\")\n",
    "# 파일에 텍스트를 씁니다.\n",
    "# 2. 내용 작성을 하기\n",
    "file.write(\"Hello Python Programming...!\")\n",
    "\n",
    "# 3. 파일을 닫으면서 저장\n",
    "# 파일을 닫습니다.\n",
    "file.close()\n",
    "\n",
    "# 주의!!! open함수 사용하면\n",
    "# 마지막은 파일객체.close()를 해야 저장 완료됨\n",
    "# open()함수로 열면 close()함수로 닫아야함!!!!!!"
   ]
  },
  {
   "cell_type": "markdown",
   "metadata": {},
   "source": [
    "with 키워드\n",
    "\n",
    "- 조건문과 반복문을 들어가다 보면 파일을 열고서 닫지 않는 실수를 하는 경우가 생길 수 있음\n",
    "\n",
    "- with 구문 종료 시 파일을 자동으로 닫음\n",
    "\n",
    "with open(파일경로, 모드) as 파일객체:\n",
    "    \n",
    "        문장"
   ]
  },
  {
   "cell_type": "code",
   "execution_count": 58,
   "metadata": {},
   "outputs": [],
   "source": [
    "with open(\"basic.txt\",\"w\") as file:\n",
    "    # 파일에 텍스트를 씁니다.\n",
    "    file.write(\"Hello Python Programming...!\\n\")\n",
    "    file.write(\"Hello Python Programming...!\\n\")"
   ]
  },
  {
   "cell_type": "markdown",
   "metadata": {},
   "source": [
    "텍스트 파일 읽어오기\n",
    "\n",
    "read() 함수\n",
    "\n",
    "파일객체.read()"
   ]
  },
  {
   "cell_type": "code",
   "execution_count": 59,
   "metadata": {},
   "outputs": [
    {
     "name": "stdout",
     "output_type": "stream",
     "text": [
      "Hello Python Programming...!\n",
      "Hello Python Programming...!\n",
      "\n"
     ]
    }
   ],
   "source": [
    "# 파일을 엽니다.\n",
    "with open(\"basic.txt\",\"r\") as file:\n",
    "    # 파일을 읽고 출력합니다\n",
    "    contents = file.read()\n",
    "\n",
    "print(contents)"
   ]
  },
  {
   "cell_type": "markdown",
   "metadata": {},
   "source": [
    "텍스트 한줄 씩 일기"
   ]
  },
  {
   "cell_type": "code",
   "execution_count": 63,
   "metadata": {},
   "outputs": [],
   "source": [
    "# 예시 랜덤하게 100면의 키와 몸무게 만들기\n",
    "# 랜덤한 숫자를 만들기 위해 가져옵니다.\n",
    "import random\n",
    "\n",
    "# 간단한 한글리스트를 만듭니다.\n",
    "hanguls = list(\"가나다라마바사아자차카타파하\")\n",
    "# 파일을 쓰기 모드로 엽니다.\n",
    "with open(\"info.txt\", \"w\",encoding=\"utf-8\") as file:\n",
    "    for i in range(1000):\n",
    "        # 랜덤한 값으로 변수를 생성합니다.\n",
    "        name = random.choice(hanguls) + random.choice(hanguls)\n",
    "        weight = random.randrange(40, 100)\n",
    "        height = random.randrange(140,200)\n",
    "\n",
    "        # 텍스트를 씁니다.\n",
    "        file.write(\"{}, {}, {}\\n\".format(name, weight, height))\n"
   ]
  },
  {
   "cell_type": "markdown",
   "metadata": {},
   "source": [
    "데이터를 한 줄 씩 읽어 들일때는 for 반복문을 다음과 같이 사용"
   ]
  }
 ],
 "metadata": {
  "kernelspec": {
   "display_name": "Python 3",
   "language": "python",
   "name": "python3"
  },
  "language_info": {
   "codemirror_mode": {
    "name": "ipython",
    "version": 3
   },
   "file_extension": ".py",
   "mimetype": "text/x-python",
   "name": "python",
   "nbconvert_exporter": "python",
   "pygments_lexer": "ipython3",
   "version": "3.13.0"
  }
 },
 "nbformat": 4,
 "nbformat_minor": 2
}
