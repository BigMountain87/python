{
 "cells": [
  {
   "cell_type": "markdown",
   "metadata": {},
   "source": [
    "Chapter 7 함수\n",
    "\n"
   ]
  },
  {
   "cell_type": "markdown",
   "metadata": {},
   "source": [
    "함수 = 코드의 집합\n",
    "\n",
    "관련 용어\n",
    "\n",
    "* 매개변수 : 함수의 입력값, 함수 호출 시 괄호 내부에 넣는 여러가지 자료\n",
    "\n",
    "* 리턴값 : 함수의 출력값, 함수를 호출하여 최종적으로 나오는 결과\n"
   ]
  },
  {
   "cell_type": "markdown",
   "metadata": {},
   "source": [
    "def 함수이름(매개변수1, 매개변수2):\n",
    "\n",
    "    명령어"
   ]
  },
  {
   "cell_type": "code",
   "execution_count": 2,
   "metadata": {},
   "outputs": [
    {
     "name": "stdout",
     "output_type": "stream",
     "text": [
      "안녕하세요\n",
      "안녕하세요\n",
      "안녕하세요\n",
      "안녕하세요\n",
      "안녕하세요\n"
     ]
    }
   ],
   "source": [
    "def print_n_times(value, n):\n",
    "    for i in range(n):\n",
    "        print(value)\n",
    "\n",
    "print_n_times(\"안녕하세요\", 5)"
   ]
  },
  {
   "cell_type": "code",
   "execution_count": null,
   "metadata": {},
   "outputs": [
    {
     "name": "stdout",
     "output_type": "stream",
     "text": [
      "6\n"
     ]
    }
   ],
   "source": [
    "def addition(a,b):\n",
    "    return a + b\n",
    "\n",
    "# 함수 선언\n",
    "# def 함수명(매개변수1, 매개변수2):\n",
    "def function_k(a, b):\n",
    "# 앞에 공백 4칸 또는 탭 사용해서 들여쓰기 (Indent) python 문법\n",
    "# VSCode를 사용하면 자동적으로 4칸이 띄워짐, 탭 대신에 공백 4칸이 좋음\n",
    "    sum = addition(a,b)\n",
    "    mul = sum * 2\n",
    "\n",
    "    return mul # return 변수 -> 변수값이 최종 리턴 \n",
    "\n",
    "# 함수 호출\n",
    "# 함수명(매개변수값 입력)\n",
    "print(function_k(1,2))\n"
   ]
  },
  {
   "cell_type": "markdown",
   "metadata": {},
   "source": [
    "기본 매개변수 : 매개변수 값을 입력을 하지 않았을 경우 기본으로 정해진 값"
   ]
  },
  {
   "cell_type": "code",
   "execution_count": 10,
   "metadata": {},
   "outputs": [
    {
     "name": "stdout",
     "output_type": "stream",
     "text": [
      "24\n",
      "14\n"
     ]
    }
   ],
   "source": [
    "# 기본 매개변수 정하는 법, 매개변수에 = 값으로 하면\n",
    "# 기본 매개변수 설정이 가능\n",
    "#                 *****   \n",
    "def function_k(a, b = 10):\n",
    "    sum = a + b\n",
    "    mul = sum * 2\n",
    "\n",
    "    return mul # return 변수 -> 변수값이 최종 리턴 \n",
    "\n",
    "print(function_k(2))\n",
    "print(function_k(2,5))"
   ]
  },
  {
   "cell_type": "markdown",
   "metadata": {},
   "source": [
    "가변 매개변수 : 매개변수를 원하는 만큼 받을 수 있음"
   ]
  },
  {
   "cell_type": "code",
   "execution_count": 11,
   "metadata": {},
   "outputs": [
    {
     "name": "stdout",
     "output_type": "stream",
     "text": [
      "안녕하세요\n",
      "즐거운\n",
      "파이썬 프로그래밍\n",
      "\n",
      "안녕하세요\n",
      "즐거운\n",
      "파이썬 프로그래밍\n",
      "\n",
      "안녕하세요\n",
      "즐거운\n",
      "파이썬 프로그래밍\n",
      "\n"
     ]
    }
   ],
   "source": [
    "def print_n_times(n, *values):\n",
    "    #n 번 반복합니다.\n",
    "    for i in range(n):\n",
    "        #values는 리스트처럼 활용합니다.\n",
    "        for value in values:\n",
    "            print(value)\n",
    "        #단순한 줄바꿈\n",
    "        print()\n",
    "\n",
    "# 함수를 호출합니다.\n",
    "print_n_times(3, \"안녕하세요\", \"즐거운\",\"파이썬 프로그래밍\")"
   ]
  },
  {
   "cell_type": "code",
   "execution_count": 13,
   "metadata": {},
   "outputs": [
    {
     "name": "stdout",
     "output_type": "stream",
     "text": [
      "안녕하세요\n",
      "즐거운\n",
      "파이썬 프로그래밍\n",
      "\n",
      "안녕하세요\n",
      "즐거운\n",
      "파이썬 프로그래밍\n",
      "\n",
      "안녕하세요\n",
      "즐거운\n",
      "파이썬 프로그래밍\n",
      "\n"
     ]
    }
   ],
   "source": [
    "list = [\"안녕하세요\", \"즐거운\",\"파이썬 프로그래밍\"]\n",
    "def print_n_times(n, values):\n",
    "    #n 번 반복합니다.\n",
    "    for i in range(n):\n",
    "        #values는 리스트처럼 활용합니다.\n",
    "        for value in values:\n",
    "            print(value)\n",
    "        #단순한 줄바꿈\n",
    "        print()\n",
    "\n",
    "# 함수를 호출합니다.\n",
    "print_n_times(3, list)"
   ]
  },
  {
   "cell_type": "code",
   "execution_count": 7,
   "metadata": {},
   "outputs": [
    {
     "name": "stdout",
     "output_type": "stream",
     "text": [
      "width :  10.0\n",
      "넓이 : 200.0\n",
      "둘레 : 60.0\n"
     ]
    }
   ],
   "source": [
    "# 1. 기본 함수 형태는 갖추기, 함수명, 매개변수 정도 작성\n",
    "# 2. 출력값 먼저 생각 후, 출력값을 계산\n",
    "# 3. 출력 값을 return 뒤에 추가\n",
    "def calculate_area_and_perimeter(width, height):\n",
    "    #sum = a + b\n",
    "    #mul = sum * 2\n",
    "    area = width * height # 넓이 = 가로 * 세로 \n",
    "    perimeter = (width + height) *2\n",
    "    print(\"width : \", width)\n",
    "    return area, perimeter # return 변수 -> 변수값이 최종 리턴 \n",
    "\n",
    "# 사용자 입력 받기\n",
    "width = float(input(\"직사각형의 가로 길이를 입력하세요: \"))\n",
    "height = float(input(\"직사각형의 세로 길이를 입력하세요: \"))\n",
    "\n",
    "# 함수호출 하여 넓이와 둘레 계산\n",
    "area, perimeter = calculate_area_and_perimeter(width, height)\n",
    "print(f\"넓이 : {area}\")\n",
    "print(f\"둘레 : {perimeter}\")"
   ]
  },
  {
   "cell_type": "markdown",
   "metadata": {},
   "source": [
    "키워드 매개변수"
   ]
  },
  {
   "cell_type": "code",
   "execution_count": 9,
   "metadata": {},
   "outputs": [
    {
     "name": "stdout",
     "output_type": "stream",
     "text": [
      "width :  100\n",
      "20000 600\n",
      "width :  200\n",
      "20000 600\n",
      "width :  100\n",
      "20000 600\n",
      "width :  100\n",
      "20000 600\n"
     ]
    }
   ],
   "source": [
    "# 함수를 호출할 때 키워드를 사용하는 방식\n",
    "\n",
    "# 일반적 방식, 매개변수를 직접 넣는 방식\n",
    "width1 = 100\n",
    "height1 = 200\n",
    "area, perimeter = calculate_area_and_perimeter(width1, height1)\n",
    "print(area, perimeter)\n",
    "\n",
    "area, perimeter = calculate_area_and_perimeter(height1,width1 )\n",
    "print(area, perimeter)\n",
    "\n",
    "\n",
    "# 키워드 매개 변수\n",
    "\n",
    "area, perimeter = calculate_area_and_perimeter(width = width1, height = height1)\n",
    "print(area, perimeter)\n",
    "\n",
    "area, perimeter = calculate_area_and_perimeter( height = height1,width = width1)\n",
    "print(area, perimeter)\n",
    "# 키워드 매개변수 장점\n",
    "# 1. 가독성 : 매개변수를 명시하기 때문에 코드의도가 명확해집니다.\n",
    "# 2. 순서와 상관이 없음 : 매개변수 순서에 관계없이 함수값을 전달 할 수 있습니다."
   ]
  },
  {
   "cell_type": "markdown",
   "metadata": {},
   "source": [
    "함수의 return 키워드\n",
    "\n",
    "- 함수를 실행했던 위치로 돌아가게 함"
   ]
  },
  {
   "cell_type": "code",
   "execution_count": null,
   "metadata": {},
   "outputs": [],
   "source": [
    "def return_test():\n",
    "    print(\"A 위치입니다.\")\n",
    "    return\n",
    "    print(\"B 위치입니다.\")\n",
    "\n",
    "# 함수를 호출합니다.\n",
    "return_test()"
   ]
  }
 ],
 "metadata": {
  "kernelspec": {
   "display_name": "Python 3",
   "language": "python",
   "name": "python3"
  },
  "language_info": {
   "codemirror_mode": {
    "name": "ipython",
    "version": 3
   },
   "file_extension": ".py",
   "mimetype": "text/x-python",
   "name": "python",
   "nbconvert_exporter": "python",
   "pygments_lexer": "ipython3",
   "version": "3.13.0"
  }
 },
 "nbformat": 4,
 "nbformat_minor": 2
}
