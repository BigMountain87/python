{
 "cells": [
  {
   "cell_type": "markdown",
   "metadata": {},
   "source": [
    "Chapter 5.\n",
    "\n",
    "반복문"
   ]
  },
  {
   "cell_type": "code",
   "execution_count": 1,
   "metadata": {},
   "outputs": [
    {
     "name": "stdout",
     "output_type": "stream",
     "text": [
      "0 : 안녕하세요? for 문을 공부 중입니다. ^^\n",
      "1 : 안녕하세요? for 문을 공부 중입니다. ^^\n",
      "2 : 안녕하세요? for 문을 공부 중입니다. ^^\n"
     ]
    }
   ],
   "source": [
    "# i라는 변수가 계속 반복되면서 증가\n",
    "for i in range(0,3,1):\n",
    "    print(\"%d : 안녕하세요? for 문을 공부 중입니다. ^^\" % i)"
   ]
  },
  {
   "cell_type": "markdown",
   "metadata": {},
   "source": [
    "1부터 10까지 합계구하는 코드를 작성하시오\n",
    "\n",
    "for 문사용"
   ]
  },
  {
   "cell_type": "code",
   "execution_count": 4,
   "metadata": {},
   "outputs": [
    {
     "name": "stdout",
     "output_type": "stream",
     "text": [
      "i :  1\n",
      "sum :  0\n",
      "i :  2\n",
      "sum :  1\n",
      "i :  3\n",
      "sum :  3\n",
      "i :  4\n",
      "sum :  6\n",
      "i :  5\n",
      "sum :  10\n",
      "i :  6\n",
      "sum :  15\n",
      "i :  7\n",
      "sum :  21\n",
      "i :  8\n",
      "sum :  28\n",
      "i :  9\n",
      "sum :  36\n",
      "i :  10\n",
      "sum :  45\n",
      "55\n"
     ]
    }
   ],
   "source": [
    "sum = 0\n",
    "# range 범위를 1부터 10까지가 되도록 수정\n",
    "for i in range(1,11,1):\n",
    "    print(\"i : \", i)\n",
    "    print(\"sum : \", sum)\n",
    "    sum = sum + i\n",
    "\n",
    "print(sum)"
   ]
  },
  {
   "cell_type": "markdown",
   "metadata": {},
   "source": [
    "500과 1000사이에 있는 홀수의 합계"
   ]
  },
  {
   "cell_type": "code",
   "execution_count": null,
   "metadata": {},
   "outputs": [
    {
     "name": "stdout",
     "output_type": "stream",
     "text": [
      "500과 1000사이에 있는 홀수의 합계 : 187500\n"
     ]
    }
   ],
   "source": [
    "i, hap = 0, 0\n",
    "# 501, 503, 505, ... \n",
    "for i in range(501,1001,2):\n",
    "    hap  = hap + i\n",
    "\n",
    "print(\"500과 1000사이에 있는 홀수의 합계 : %d\" %hap)"
   ]
  },
  {
   "cell_type": "markdown",
   "metadata": {},
   "source": [
    "위의 코드를 활용해서 0과 100사이에 있는 7의 배수 합계를 구하도록 수정"
   ]
  },
  {
   "cell_type": "code",
   "execution_count": 10,
   "metadata": {},
   "outputs": [
    {
     "name": "stdout",
     "output_type": "stream",
     "text": [
      "0과 7사이에 있는 홀수의 합계 : 735\n"
     ]
    }
   ],
   "source": [
    "i, hap = 0, 0\n",
    "# 시작점, 간격을 손을 보면 결과가 나옴\n",
    "# 만약에 range(1,101,7), 1, 8, 15, .... 7의 배수가 X\n",
    "# 시작점도 7의 배수중 가장 작은 수, 간격 7\n",
    "for i in range(0,101,7):\n",
    "    hap  = hap + i\n",
    "\n",
    "print(\"0과 7사이에 있는 홀수의 합계 : %d\" %hap)"
   ]
  },
  {
   "cell_type": "markdown",
   "metadata": {},
   "source": [
    "구구단 2단을 출력하는 코드 작성\n",
    "\n",
    "print(), for 반복문 이용\n",
    "\n",
    "2 * 1 = 2\n",
    "2 * 2 = 4\n",
    "...\n",
    "...\n",
    "2 * 9 = 18"
   ]
  },
  {
   "cell_type": "markdown",
   "metadata": {},
   "source": [
    "반복문을 사용할 경우\n",
    "\n",
    "* 어느 부분이 반복(변화, 규칙) 되는 지를 확인"
   ]
  },
  {
   "cell_type": "code",
   "execution_count": 13,
   "metadata": {},
   "outputs": [
    {
     "name": "stdout",
     "output_type": "stream",
     "text": [
      "2 * 1 =  2\n",
      "2 * 2 =  4\n",
      "2 * 3 =  6\n",
      "2 * 4 =  8\n",
      "2 * 5 = 10\n",
      "2 * 6 = 12\n",
      "2 * 7 = 14\n",
      "2 * 8 = 16\n",
      "2 * 9 = 18\n"
     ]
    }
   ],
   "source": [
    "for i in range(1,10,1):\n",
    "    print(\"2 * %d = %2d\"% (i, i*2))"
   ]
  },
  {
   "cell_type": "markdown",
   "metadata": {},
   "source": [
    "위에 코드를 활용해서\n",
    "\n",
    "2단부터 9단 출력하는 코드 작성해보세요\n",
    "\n",
    "for 반복문을 2개 중첩해서 사용"
   ]
  },
  {
   "cell_type": "markdown",
   "metadata": {},
   "source": [
    "2 * 1 =  2\n",
    "2 * 2 =  4\n",
    "\n",
    "3 * 1 = 3\n",
    "3 * 2 = 6"
   ]
  },
  {
   "cell_type": "code",
   "execution_count": 29,
   "metadata": {},
   "outputs": [
    {
     "ename": "_IncompleteInputError",
     "evalue": "incomplete input (1008663626.py, line 9)",
     "output_type": "error",
     "traceback": [
      "\u001b[1;36m  Cell \u001b[1;32mIn[29], line 9\u001b[1;36m\u001b[0m\n\u001b[1;33m    print(\"%d * %d = %2d\"% (j, i, i*j)\u001b[0m\n\u001b[1;37m                                      ^\u001b[0m\n\u001b[1;31m_IncompleteInputError\u001b[0m\u001b[1;31m:\u001b[0m incomplete input\n"
     ]
    }
   ],
   "source": [
    "# 2단\n",
    "for i in range(1,10,1):\n",
    "    print(\"4 * %d = %2d\"% (i, i*4))\n",
    "# 2단 9단까지 출력\n",
    "# 모르겠다그러면 range ~~~\n",
    "\n",
    "for j in range(2,10,1): \n",
    "    for i in range(1,10,1):\n",
    "        print(\"%d * %d = %2d\"% (j, i, i*j)"
   ]
  },
  {
   "cell_type": "markdown",
   "metadata": {},
   "source": [
    "중첩 for문"
   ]
  },
  {
   "cell_type": "code",
   "execution_count": null,
   "metadata": {},
   "outputs": [
    {
     "name": "stdout",
     "output_type": "stream",
     "text": [
      "파이썬은 꿀잼입니다 (i값 : 0, k값: 0)\n",
      "파이썬은 꿀잼입니다 (i값 : 0, k값: 1)\n",
      "파이썬은 꿀잼입니다 (i값 : 1, k값: 0)\n",
      "파이썬은 꿀잼입니다 (i값 : 1, k값: 1)\n",
      "파이썬은 꿀잼입니다 (i값 : 2, k값: 0)\n",
      "파이썬은 꿀잼입니다 (i값 : 2, k값: 1)\n"
     ]
    }
   ],
   "source": [
    "for i in range(0,3,1): # i [0,1,2]\n",
    "    for k in range(0,2,1): # k [0,1]\n",
    "        print(\"파이썬은 꿀잼입니다 (i값 : %d, k값: %d)\" % (i,k))"
   ]
  },
  {
   "cell_type": "markdown",
   "metadata": {},
   "source": [
    "while 반복문"
   ]
  },
  {
   "cell_type": "markdown",
   "metadata": {},
   "source": [
    "에러가 발생한다\n",
    "\n",
    "1. google 에러메시지를 넣어보기\n",
    "\n",
    "2. LLM(ChatGPT, Claude)을 사용해보기"
   ]
  },
  {
   "cell_type": "markdown",
   "metadata": {},
   "source": [
    "while 문은 반복 횟수를 결정하기 보다 조건이 참일 때 반복\n",
    "\n",
    "for 문 : 리스트, 대규모 DB 값, 순차적 반복해야할 때 많이 사용\n",
    "\n",
    "while : 조건일 때만 동작, for 문 기능 못하는 것은 아님"
   ]
  },
  {
   "cell_type": "code",
   "execution_count": null,
   "metadata": {},
   "outputs": [
    {
     "name": "stdout",
     "output_type": "stream",
     "text": [
      "0 : 안녕하세요? for 문을 공부 중입니다. ^^\n",
      "1 : 안녕하세요? for 문을 공부 중입니다. ^^\n",
      "2 : 안녕하세요? for 문을 공부 중입니다. ^^\n"
     ]
    }
   ],
   "source": [
    "# for 문 안녕하세요~ 3회 출력하는 코드\n",
    "# 0에서 2까지 1씩 증가 반복문\n",
    "for i in range(0,3,1):\n",
    "    print(\"%d : 안녕하세요? for 문을 공부 중입니다. ^^\" %i)"
   ]
  },
  {
   "cell_type": "markdown",
   "metadata": {},
   "source": [
    "위의 for 문을 while 문으로 작성하면 아래와 같습니다."
   ]
  },
  {
   "cell_type": "code",
   "execution_count": 10,
   "metadata": {},
   "outputs": [
    {
     "name": "stdout",
     "output_type": "stream",
     "text": [
      "0 : 안녕하세요? for 문을 공부 중입니다. ^^\n",
      "1 : 안녕하세요? for 문을 공부 중입니다. ^^\n",
      "2 : 안녕하세요? for 문을 공부 중입니다. ^^\n"
     ]
    }
   ],
   "source": [
    "# i = 0 : for 문 range 부분 시작부분 숫자\n",
    "i = 0\n",
    "# while i < 3 부분 i가 3보다 작을 때 실행\n",
    "while i < 3:\n",
    "    print(\"%d : 안녕하세요? for 문을 공부 중입니다. ^^\" %i)\n",
    "    i = i + 1 # i를 1씩 증가"
   ]
  },
  {
   "cell_type": "markdown",
   "metadata": {},
   "source": [
    "while 문을 사용해서 1부터 10까지의 합계 구하는 코드"
   ]
  },
  {
   "cell_type": "code",
   "execution_count": 11,
   "metadata": {},
   "outputs": [
    {
     "name": "stdout",
     "output_type": "stream",
     "text": [
      "1에서 10까지의 합계 : 55\n"
     ]
    }
   ],
   "source": [
    "# 으로 표시한 부분을 작성해서 1에서 10까지 합계\n",
    "# 코드를 작성하시오\n",
    "i, sum = 0, 0 # i값 0, sum 0 -> 초기값 저장\n",
    "\n",
    "i = 1 # 시작값\n",
    "while i < 11: # while 문 조건이 10까지 돌아가야하기 때문에\n",
    "# 11을 해야 i가 10까지 돌아감\n",
    "    #sum = sum + i\n",
    "    sum += i\n",
    "    i = i + 1\n",
    "\n",
    "print(\"1에서 10까지의 합계 : %d\" %sum)"
   ]
  },
  {
   "cell_type": "markdown",
   "metadata": {},
   "source": [
    "Tip :\n",
    "\n",
    "1. 간단한 문법 구문 안보고 작성해보기\n",
    "\n",
    "2. 부분 부분별로 바꿔서 \n",
    "\n",
    "    1) 바꿨을 때 어떻게 될지 추론\n",
    "\n",
    "    2) 실행 계산 결과 확인\n",
    "\n",
    "    3) 추론 어떤 틀렸는지 확인"
   ]
  },
  {
   "cell_type": "code",
   "execution_count": null,
   "metadata": {},
   "outputs": [
    {
     "name": "stdout",
     "output_type": "stream",
     "text": [
      "1에서 10까지의 합계 : 115\n"
     ]
    }
   ],
   "source": []
  },
  {
   "cell_type": "markdown",
   "metadata": {},
   "source": [
    "while문 무한루프"
   ]
  },
  {
   "cell_type": "markdown",
   "metadata": {},
   "source": [
    "계속 돌아가는 while"
   ]
  },
  {
   "cell_type": "code",
   "execution_count": null,
   "metadata": {},
   "outputs": [],
   "source": [
    "while True:\n",
    "    print(\"무한루프 반복문\")"
   ]
  },
  {
   "cell_type": "markdown",
   "metadata": {},
   "source": [
    "예) 무한 루프를 사용해 입력한 두 숫자의 합계를 반복해서 계산"
   ]
  },
  {
   "cell_type": "code",
   "execution_count": null,
   "metadata": {},
   "outputs": [],
   "source": [
    "sum = 0\n",
    "a, b = 0, 0 # a, b 더할 두 숫자\n",
    "\n",
    "while True:\n",
    "    a = int(input(\"더할 첫 번째 수를 입력하세요 : \"))\n",
    "    b = int(input(\"더할 두 번째 수를 입력하세요 : \"))\n",
    "    sum = a + b\n",
    "    print(\"%d + %d = %d\" % (a, b, sum))"
   ]
  },
  {
   "cell_type": "markdown",
   "metadata": {},
   "source": [
    "만약에 무한루프 종료하려면?\n",
    "\n",
    "주피터노트북 : 코드 블럭 왼쪽에 사각형 버튼 중지\n",
    "\n",
    "터미널 (command prompt) : Control + C"
   ]
  },
  {
   "cell_type": "markdown",
   "metadata": {},
   "source": [
    "반복문을 탈출시키는 Break 문\n",
    "\n",
    "* Break 반복문을 중지하는 역할 "
   ]
  },
  {
   "cell_type": "code",
   "execution_count": 17,
   "metadata": {},
   "outputs": [
    {
     "name": "stdout",
     "output_type": "stream",
     "text": [
      "for 문을 1 번 실행\n"
     ]
    }
   ],
   "source": [
    "for i in range(1,100):\n",
    "    print(\"for 문을 %d 번 실행\" %i)\n",
    "    break"
   ]
  },
  {
   "cell_type": "code",
   "execution_count": 18,
   "metadata": {},
   "outputs": [
    {
     "name": "stdout",
     "output_type": "stream",
     "text": [
      "for 문을 1 번 실행\n",
      "for 문을 2 번 실행\n",
      "for 문을 3 번 실행\n",
      "for 문을 4 번 실행\n",
      "for 문을 5 번 실행\n",
      "for 문을 6 번 실행\n",
      "for 문을 7 번 실행\n",
      "for 문을 8 번 실행\n",
      "for 문을 9 번 실행\n",
      "for 문을 10 번 실행\n",
      "for 문을 11 번 실행\n",
      "for 문을 12 번 실행\n",
      "for 문을 13 번 실행\n",
      "for 문을 14 번 실행\n",
      "for 문을 15 번 실행\n",
      "for 문을 16 번 실행\n",
      "for 문을 17 번 실행\n",
      "for 문을 18 번 실행\n",
      "for 문을 19 번 실행\n",
      "for 문을 20 번 실행\n",
      "for 문을 21 번 실행\n",
      "for 문을 22 번 실행\n",
      "for 문을 23 번 실행\n",
      "for 문을 24 번 실행\n",
      "for 문을 25 번 실행\n",
      "for 문을 26 번 실행\n",
      "for 문을 27 번 실행\n",
      "for 문을 28 번 실행\n",
      "for 문을 29 번 실행\n",
      "for 문을 30 번 실행\n",
      "for 문을 31 번 실행\n",
      "for 문을 32 번 실행\n",
      "for 문을 33 번 실행\n",
      "for 문을 34 번 실행\n",
      "for 문을 35 번 실행\n",
      "for 문을 36 번 실행\n",
      "for 문을 37 번 실행\n",
      "for 문을 38 번 실행\n",
      "for 문을 39 번 실행\n",
      "for 문을 40 번 실행\n",
      "for 문을 41 번 실행\n",
      "for 문을 42 번 실행\n",
      "for 문을 43 번 실행\n",
      "for 문을 44 번 실행\n",
      "for 문을 45 번 실행\n",
      "for 문을 46 번 실행\n",
      "for 문을 47 번 실행\n",
      "for 문을 48 번 실행\n",
      "for 문을 49 번 실행\n",
      "for 문을 50 번 실행\n",
      "for 문을 51 번 실행\n",
      "for 문을 52 번 실행\n",
      "for 문을 53 번 실행\n",
      "for 문을 54 번 실행\n",
      "for 문을 55 번 실행\n",
      "for 문을 56 번 실행\n",
      "for 문을 57 번 실행\n",
      "for 문을 58 번 실행\n",
      "for 문을 59 번 실행\n",
      "for 문을 60 번 실행\n",
      "for 문을 61 번 실행\n",
      "for 문을 62 번 실행\n",
      "for 문을 63 번 실행\n",
      "for 문을 64 번 실행\n",
      "for 문을 65 번 실행\n",
      "for 문을 66 번 실행\n",
      "for 문을 67 번 실행\n",
      "for 문을 68 번 실행\n",
      "for 문을 69 번 실행\n",
      "for 문을 70 번 실행\n",
      "for 문을 71 번 실행\n",
      "for 문을 72 번 실행\n",
      "for 문을 73 번 실행\n",
      "for 문을 74 번 실행\n",
      "for 문을 75 번 실행\n",
      "for 문을 76 번 실행\n",
      "for 문을 77 번 실행\n",
      "for 문을 78 번 실행\n",
      "for 문을 79 번 실행\n",
      "for 문을 80 번 실행\n",
      "for 문을 81 번 실행\n",
      "for 문을 82 번 실행\n",
      "for 문을 83 번 실행\n",
      "for 문을 84 번 실행\n",
      "for 문을 85 번 실행\n",
      "for 문을 86 번 실행\n",
      "for 문을 87 번 실행\n",
      "for 문을 88 번 실행\n",
      "for 문을 89 번 실행\n",
      "for 문을 90 번 실행\n",
      "for 문을 91 번 실행\n",
      "for 문을 92 번 실행\n",
      "for 문을 93 번 실행\n",
      "for 문을 94 번 실행\n",
      "for 문을 95 번 실행\n",
      "for 문을 96 번 실행\n",
      "for 문을 97 번 실행\n",
      "for 문을 98 번 실행\n",
      "for 문을 99 번 실행\n"
     ]
    }
   ],
   "source": [
    "# if를 추가해서 i가 100일때 break가 되도록 작성\n",
    "# 실행해보기\n",
    "\n",
    "for i in range(1,100):\n",
    "    print(\"for 문을 %d 번 실행\" %i)\n",
    "    if i == 100:\n",
    "        break"
   ]
  },
  {
   "cell_type": "code",
   "execution_count": null,
   "metadata": {},
   "outputs": [
    {
     "name": "stdout",
     "output_type": "stream",
     "text": [
      "10 + 20 = 30\n"
     ]
    }
   ],
   "source": [
    "# 숫자 대신에 $를 집어넣으면 loop가 종료 (break) 되도록 작성\n",
    "\n",
    "sum = 0\n",
    "a, b = 0, 0 # a, b 더할 두 숫자\n",
    "\n",
    "while True:\n",
    "    a = input(\"더할 첫 번째 수를 입력하세요 : \")\n",
    "    if a == \"$\":\n",
    "        break\n",
    "\n",
    "    b = input(\"더할 두 번째 수를 입력하세요 : \")\n",
    "    if b == \"$\":\n",
    "        break\n",
    "    \n",
    "    a = int(a)\n",
    "    b = int(b)\n",
    "    sum = a + b\n",
    "    print(\"%d + %d = %d\" % (a, b, sum))"
   ]
  },
  {
   "cell_type": "markdown",
   "metadata": {},
   "source": [
    "continue 문 \n",
    "\n",
    "반복문으로 처음으로 다시돌아가는 구문"
   ]
  },
  {
   "cell_type": "code",
   "execution_count": null,
   "metadata": {},
   "outputs": [
    {
     "name": "stdout",
     "output_type": "stream",
     "text": [
      "1~100의 합계 (3의 배수는 제외): 3367\n"
     ]
    }
   ],
   "source": [
    "sum, i = 0, 0 # 초기값 설정\n",
    "\n",
    "# 1부터 100까지 1씩 증가하는 반복문\n",
    "for i in range(1, 101):\n",
    "    # 정수를 3으로 나눠서 0인 경우 -> 3의 배수를 의미\n",
    "    # if 문에서 3의 배수이면 continue\n",
    "    # continue를 실행하면 sum = sum + i가 실행이 되지 않고\n",
    "    # for 문의 처음으로 이동함\n",
    "    if i % 3 == 0:\n",
    "        continue\n",
    "\n",
    "    sum = sum + i\n",
    "print(\"1~100의 합계 (3의 배수는 제외): %d\" % sum)"
   ]
  },
  {
   "cell_type": "code",
   "execution_count": null,
   "metadata": {},
   "outputs": [
    {
     "name": "stdout",
     "output_type": "stream",
     "text": [
      "1~100의 합계 (3의 배수는 제외): 3367\n"
     ]
    }
   ],
   "source": [
    "sum, i = 0, 0 # 초기값 설정\n",
    "\n",
    "# 1부터 100까지 1씩 증가하는 반복문\n",
    "for i in range(1, 101):\n",
    "    if i % 3 != 0:\n",
    "        sum = sum + i\n",
    "    \n",
    "print(\"1~100의 합계 (3의 배수는 제외): %d\" % sum)"
   ]
  },
  {
   "cell_type": "markdown",
   "metadata": {},
   "source": [
    "별모양의 글자를 출력하는 코드\n",
    "\n",
    "print('\\u2605')"
   ]
  },
  {
   "cell_type": "code",
   "execution_count": 42,
   "metadata": {},
   "outputs": [
    {
     "name": "stdout",
     "output_type": "stream",
     "text": [
      "★\n"
     ]
    }
   ],
   "source": [
    "print('\\u2605') #유니코드"
   ]
  },
  {
   "cell_type": "markdown",
   "metadata": {},
   "source": [
    "유니코드란?\n",
    "\n",
    "전 세계의 대부분의 문자와 심볼을 고유한 코드포인트로 매핑한 국제표준\n",
    "\n",
    "u다음에 숫자는 16진수로 표시"
   ]
  },
  {
   "cell_type": "code",
   "execution_count": null,
   "metadata": {},
   "outputs": [
    {
     "name": "stdout",
     "output_type": "stream",
     "text": [
      "    ★\n",
      "   ★★★\n",
      "  ★★★★★\n",
      " ★★★★★★★\n",
      "★★★★★★★★★\n",
      " ★★★★★★★\n",
      "  ★★★★★\n",
      "   ★★★\n",
      "    ★\n"
     ]
    }
   ],
   "source": [
    "## 전역 변수 선언 부분\n",
    "i, k = 0, 0\n",
    "\n",
    "## 메인 코드 부분 ##\n",
    "i = 0\n",
    "while i < 9:\n",
    "    if i < 5:\n",
    "        k = 0\n",
    "        while k < 4 - i:\n",
    "            print(' ', end = '')\n",
    "            k += 1\n",
    "        k = 0\n",
    "        while k < i*2 + 1:\n",
    "            print('\\u2605', end='')\n",
    "            k += 1\n",
    "    else:\n",
    "        k = 0\n",
    "        while k < i-4:\n",
    "            print(' ', end ='')\n",
    "            k += 1\n",
    "\n",
    "        k = 0\n",
    "        while k < (9-i)*2 -1:\n",
    "            print('\\u2605',end='')\n",
    "            k += 1\n",
    "\n",
    "    print()\n",
    "    i += 1\n"
   ]
  }
 ],
 "metadata": {
  "kernelspec": {
   "display_name": "Python 3",
   "language": "python",
   "name": "python3"
  },
  "language_info": {
   "codemirror_mode": {
    "name": "ipython",
    "version": 3
   },
   "file_extension": ".py",
   "mimetype": "text/x-python",
   "name": "python",
   "nbconvert_exporter": "python",
   "pygments_lexer": "ipython3",
   "version": "3.13.0"
  }
 },
 "nbformat": 4,
 "nbformat_minor": 2
}
