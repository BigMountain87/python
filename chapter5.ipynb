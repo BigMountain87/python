{
 "cells": [
  {
   "cell_type": "markdown",
   "metadata": {},
   "source": [
    "Chapter 5.\n",
    "\n",
    "반복문"
   ]
  },
  {
   "cell_type": "code",
   "execution_count": 1,
   "metadata": {},
   "outputs": [
    {
     "name": "stdout",
     "output_type": "stream",
     "text": [
      "0 : 안녕하세요? for 문을 공부 중입니다. ^^\n",
      "1 : 안녕하세요? for 문을 공부 중입니다. ^^\n",
      "2 : 안녕하세요? for 문을 공부 중입니다. ^^\n"
     ]
    }
   ],
   "source": [
    "# i라는 변수가 계속 반복되면서 증가\n",
    "for i in range(0,3,1):\n",
    "    print(\"%d : 안녕하세요? for 문을 공부 중입니다. ^^\" % i)"
   ]
  },
  {
   "cell_type": "markdown",
   "metadata": {},
   "source": [
    "1부터 10까지 합계구하는 코드를 작성하시오\n",
    "\n",
    "for 문사용"
   ]
  },
  {
   "cell_type": "code",
   "execution_count": 4,
   "metadata": {},
   "outputs": [
    {
     "name": "stdout",
     "output_type": "stream",
     "text": [
      "i :  1\n",
      "sum :  0\n",
      "i :  2\n",
      "sum :  1\n",
      "i :  3\n",
      "sum :  3\n",
      "i :  4\n",
      "sum :  6\n",
      "i :  5\n",
      "sum :  10\n",
      "i :  6\n",
      "sum :  15\n",
      "i :  7\n",
      "sum :  21\n",
      "i :  8\n",
      "sum :  28\n",
      "i :  9\n",
      "sum :  36\n",
      "i :  10\n",
      "sum :  45\n",
      "55\n"
     ]
    }
   ],
   "source": [
    "sum = 0\n",
    "# range 범위를 1부터 10까지가 되도록 수정\n",
    "for i in range(1,11,1):\n",
    "    print(\"i : \", i)\n",
    "    print(\"sum : \", sum)\n",
    "    sum = sum + i\n",
    "\n",
    "print(sum)"
   ]
  },
  {
   "cell_type": "markdown",
   "metadata": {},
   "source": [
    "500과 1000사이에 있는 홀수의 합계"
   ]
  },
  {
   "cell_type": "code",
   "execution_count": null,
   "metadata": {},
   "outputs": [
    {
     "name": "stdout",
     "output_type": "stream",
     "text": [
      "500과 1000사이에 있는 홀수의 합계 : 187500\n"
     ]
    }
   ],
   "source": [
    "i, hap = 0, 0\n",
    "# 501, 503, 505, ... \n",
    "for i in range(501,1001,2):\n",
    "    hap  = hap + i\n",
    "\n",
    "print(\"500과 1000사이에 있는 홀수의 합계 : %d\" %hap)"
   ]
  },
  {
   "cell_type": "markdown",
   "metadata": {},
   "source": [
    "위의 코드를 활용해서 0과 100사이에 있는 7의 배수 합계를 구하도록 수정"
   ]
  },
  {
   "cell_type": "code",
   "execution_count": 10,
   "metadata": {},
   "outputs": [
    {
     "name": "stdout",
     "output_type": "stream",
     "text": [
      "0과 7사이에 있는 홀수의 합계 : 735\n"
     ]
    }
   ],
   "source": [
    "i, hap = 0, 0\n",
    "# 시작점, 간격을 손을 보면 결과가 나옴\n",
    "# 만약에 range(1,101,7), 1, 8, 15, .... 7의 배수가 X\n",
    "# 시작점도 7의 배수중 가장 작은 수, 간격 7\n",
    "for i in range(0,101,7):\n",
    "    hap  = hap + i\n",
    "\n",
    "print(\"0과 7사이에 있는 홀수의 합계 : %d\" %hap)"
   ]
  },
  {
   "cell_type": "markdown",
   "metadata": {},
   "source": [
    "구구단 2단을 출력하는 코드 작성\n",
    "\n",
    "print(), for 반복문 이용\n",
    "\n",
    "2 * 1 = 2\n",
    "2 * 2 = 4\n",
    "...\n",
    "...\n",
    "2 * 9 = 18"
   ]
  },
  {
   "cell_type": "markdown",
   "metadata": {},
   "source": [
    "반복문을 사용할 경우\n",
    "\n",
    "* 어느 부분이 반복(변화, 규칙) 되는 지를 확인"
   ]
  },
  {
   "cell_type": "code",
   "execution_count": 13,
   "metadata": {},
   "outputs": [
    {
     "name": "stdout",
     "output_type": "stream",
     "text": [
      "2 * 1 =  2\n",
      "2 * 2 =  4\n",
      "2 * 3 =  6\n",
      "2 * 4 =  8\n",
      "2 * 5 = 10\n",
      "2 * 6 = 12\n",
      "2 * 7 = 14\n",
      "2 * 8 = 16\n",
      "2 * 9 = 18\n"
     ]
    }
   ],
   "source": [
    "for i in range(1,10,1):\n",
    "    print(\"2 * %d = %2d\"% (i, i*2))"
   ]
  },
  {
   "cell_type": "markdown",
   "metadata": {},
   "source": [
    "위에 코드를 활용해서\n",
    "\n",
    "2단부터 9단 출력하는 코드 작성해보세요\n",
    "\n",
    "for 반복문을 2개 중첩해서 사용"
   ]
  },
  {
   "cell_type": "markdown",
   "metadata": {},
   "source": [
    "2 * 1 =  2\n",
    "2 * 2 =  4\n",
    "\n",
    "3 * 1 = 3\n",
    "3 * 2 = 6"
   ]
  },
  {
   "cell_type": "code",
   "execution_count": 29,
   "metadata": {},
   "outputs": [
    {
     "ename": "_IncompleteInputError",
     "evalue": "incomplete input (1008663626.py, line 9)",
     "output_type": "error",
     "traceback": [
      "\u001b[1;36m  Cell \u001b[1;32mIn[29], line 9\u001b[1;36m\u001b[0m\n\u001b[1;33m    print(\"%d * %d = %2d\"% (j, i, i*j)\u001b[0m\n\u001b[1;37m                                      ^\u001b[0m\n\u001b[1;31m_IncompleteInputError\u001b[0m\u001b[1;31m:\u001b[0m incomplete input\n"
     ]
    }
   ],
   "source": [
    "# 2단\n",
    "for i in range(1,10,1):\n",
    "    print(\"4 * %d = %2d\"% (i, i*4))\n",
    "# 2단 9단까지 출력\n",
    "# 모르겠다그러면 range ~~~\n",
    "\n",
    "for j in range(2,10,1): \n",
    "    for i in range(1,10,1):\n",
    "        print(\"%d * %d = %2d\"% (j, i, i*j)"
   ]
  },
  {
   "cell_type": "markdown",
   "metadata": {},
   "source": [
    "중첩 for문"
   ]
  },
  {
   "cell_type": "code",
   "execution_count": null,
   "metadata": {},
   "outputs": [
    {
     "name": "stdout",
     "output_type": "stream",
     "text": [
      "파이썬은 꿀잼입니다 (i값 : 0, k값: 0)\n",
      "파이썬은 꿀잼입니다 (i값 : 0, k값: 1)\n",
      "파이썬은 꿀잼입니다 (i값 : 1, k값: 0)\n",
      "파이썬은 꿀잼입니다 (i값 : 1, k값: 1)\n",
      "파이썬은 꿀잼입니다 (i값 : 2, k값: 0)\n",
      "파이썬은 꿀잼입니다 (i값 : 2, k값: 1)\n"
     ]
    }
   ],
   "source": [
    "for i in range(0,3,1): # i [0,1,2]\n",
    "    for k in range(0,2,1): # k [0,1]\n",
    "        print(\"파이썬은 꿀잼입니다 (i값 : %d, k값: %d)\" % (i,k))"
   ]
  },
  {
   "cell_type": "markdown",
   "metadata": {},
   "source": [
    "while 반복문"
   ]
  },
  {
   "cell_type": "markdown",
   "metadata": {},
   "source": [
    "에러가 발생한다\n",
    "\n",
    "1. google 에러메시지를 넣어보기\n",
    "\n",
    "2. LLM(ChatGPT, Claude)을 사용해보기"
   ]
  }
 ],
 "metadata": {
  "kernelspec": {
   "display_name": "Python 3",
   "language": "python",
   "name": "python3"
  },
  "language_info": {
   "codemirror_mode": {
    "name": "ipython",
    "version": 3
   },
   "file_extension": ".py",
   "mimetype": "text/x-python",
   "name": "python",
   "nbconvert_exporter": "python",
   "pygments_lexer": "ipython3",
   "version": "3.13.0"
  }
 },
 "nbformat": 4,
 "nbformat_minor": 2
}
