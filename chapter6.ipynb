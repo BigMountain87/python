{
 "cells": [
  {
   "cell_type": "markdown",
   "metadata": {},
   "source": [
    "Chapter 6"
   ]
  },
  {
   "cell_type": "markdown",
   "metadata": {},
   "source": [
    "딕셔너리\n",
    "\n",
    "키를 기반으로 여러 자료를 저장하는 자료형\n",
    "\n",
    "키 : 딕셔너리 내부에어 값을 접근 때 사용하는 것\n",
    "\n",
    "값 : 딕셔너리 내부에 있는 각각의 내용\n",
    "\n",
    "참고로 JSON과 비슷한 형태이다. JSON -> 웹 개발 할 때 많이 사용"
   ]
  },
  {
   "cell_type": "code",
   "execution_count": 72,
   "metadata": {},
   "outputs": [],
   "source": [
    "# 변수명 = {} 중괄호 사용\n",
    "dict_a = {\n",
    "    # 키 : 값 형태, 키와 값이 페이를 갖는다\n",
    "    \"name\": \"어밴저스 엔드게임\",\n",
    "    \"type\": \"히어로 무비\"\n",
    "}"
   ]
  },
  {
   "cell_type": "code",
   "execution_count": 73,
   "metadata": {},
   "outputs": [
    {
     "data": {
      "text/plain": [
       "'어밴저스 엔드게임'"
      ]
     },
     "execution_count": 73,
     "metadata": {},
     "output_type": "execute_result"
    }
   ],
   "source": [
    "# 딕셔너리 값을 조회\n",
    "dict_a[\"name\"]"
   ]
  },
  {
   "cell_type": "code",
   "execution_count": 74,
   "metadata": {},
   "outputs": [
    {
     "data": {
      "text/plain": [
       "'어밴저스'"
      ]
     },
     "execution_count": 74,
     "metadata": {},
     "output_type": "execute_result"
    }
   ],
   "source": [
    "# 딕셔너리 값을 바꾸기\n",
    "dict_a[\"name\"] = \"어밴저스\"\n",
    "dict_a[\"name\"]"
   ]
  },
  {
   "cell_type": "code",
   "execution_count": 75,
   "metadata": {},
   "outputs": [
    {
     "data": {
      "text/plain": [
       "{'name': '어밴저스', 'type': '히어로 무비', 'date': '20241204'}"
      ]
     },
     "execution_count": 75,
     "metadata": {},
     "output_type": "execute_result"
    }
   ],
   "source": [
    "# 딕셔너리에 새로운 키: 값을 추가하기\n",
    "dict_a[\"date\"] = \"20241204\"\n",
    "dict_a"
   ]
  },
  {
   "cell_type": "code",
   "execution_count": 76,
   "metadata": {},
   "outputs": [
    {
     "name": "stdout",
     "output_type": "stream",
     "text": [
      "name: 7D 건조 망고\n",
      "type: 당절임\n",
      "ingrdient: ['망고', '설탕', '메타중아황산나트륨', '치자황색소']\n",
      "origin: 필리핀\n",
      "\n",
      "name: 7D 건조 망고\n",
      "type: 당절임\n",
      "ingredient: ['망고', '설탕', '메타중아황산나트륨', '치자황색소']\n",
      "origin: 필리핀\n"
     ]
    }
   ],
   "source": [
    "# 딕셔너리 요소에 접근하기\n",
    "dictionary = {\n",
    "    \"name\": \"7D 건조 망고\",\n",
    "    \"type\": \"당절임\",\n",
    "    \"ingredient\": [\"망고\",\"설탕\",\"메타중아황산나트륨\",\"치자황색소\"], # 데이터가 리스트 타입입니다.\n",
    "    \"origin\":\"필리핀\"\n",
    "}\n",
    "# 출력하기\n",
    "print(\"name:\", dictionary[\"name\"])\n",
    "print(\"type:\", dictionary[\"type\"])\n",
    "print(\"ingrdient:\", dictionary[\"ingredient\"])\n",
    "print(\"origin:\", dictionary[\"origin\"])\n",
    "print()\n",
    "\n",
    "# 반복문 사용 출력하기\n",
    "for key, value in dictionary.items():\n",
    "    print(f\"{key}: {value}\")"
   ]
  },
  {
   "cell_type": "code",
   "execution_count": 77,
   "metadata": {},
   "outputs": [
    {
     "name": "stdout",
     "output_type": "stream",
     "text": [
      "name: 8D 건조 망고\n"
     ]
    }
   ],
   "source": [
    "# 값을 변경하기\n",
    "dictionary[\"name\"] = \"8D 건조 망고\"\n",
    "print(\"name:\", dictionary[\"name\"])"
   ]
  },
  {
   "cell_type": "code",
   "execution_count": 78,
   "metadata": {},
   "outputs": [
    {
     "data": {
      "text/plain": [
       "['망고', '설탕', '메타중아황산나트륨', '치자황색소']"
      ]
     },
     "execution_count": 78,
     "metadata": {},
     "output_type": "execute_result"
    }
   ],
   "source": [
    "# 리스트가 값으로 갖는 경우 어떻게 출력을 할까?\n",
    "dictionary[\"ingredient\"]"
   ]
  },
  {
   "cell_type": "code",
   "execution_count": 79,
   "metadata": {},
   "outputs": [
    {
     "data": {
      "text/plain": [
       "'설탕'"
      ]
     },
     "execution_count": 79,
     "metadata": {},
     "output_type": "execute_result"
    }
   ],
   "source": [
    "# dictionary[\"ingredient\"] -> 리스트\n",
    "# 리스트 형태의 요소를 출력하려면 인덱스\n",
    "# 추가로 []에 인덱스 번호를 넣으면 됨\n",
    "dictionary[\"ingredient\"][1]"
   ]
  },
  {
   "cell_type": "code",
   "execution_count": 80,
   "metadata": {},
   "outputs": [
    {
     "data": {
      "text/plain": [
       "'메타중아황산나트륨'"
      ]
     },
     "execution_count": 80,
     "metadata": {},
     "output_type": "execute_result"
    }
   ],
   "source": [
    "dictionary[\"ingredient\"][2]"
   ]
  },
  {
   "cell_type": "code",
   "execution_count": 81,
   "metadata": {},
   "outputs": [
    {
     "data": {
      "text/plain": [
       "{'name': '8D 건조 망고',\n",
       " 'type': '당절임',\n",
       " 'ingredient': ['망고', '설탕', '메타중아황산나트륨', '치자황색소'],\n",
       " 'origin': '필리핀'}"
      ]
     },
     "execution_count": 81,
     "metadata": {},
     "output_type": "execute_result"
    }
   ],
   "source": [
    "# 딕셔너리의 요소를 제거하는 방법\n",
    "dictionary"
   ]
  },
  {
   "cell_type": "code",
   "execution_count": 82,
   "metadata": {},
   "outputs": [],
   "source": [
    "del dictionary[\"origin\"]"
   ]
  },
  {
   "cell_type": "code",
   "execution_count": 83,
   "metadata": {},
   "outputs": [
    {
     "data": {
      "text/plain": [
       "{'name': '8D 건조 망고',\n",
       " 'type': '당절임',\n",
       " 'ingredient': ['망고', '설탕', '메타중아황산나트륨', '치자황색소']}"
      ]
     },
     "execution_count": 83,
     "metadata": {},
     "output_type": "execute_result"
    }
   ],
   "source": [
    "dictionary"
   ]
  },
  {
   "cell_type": "code",
   "execution_count": 84,
   "metadata": {},
   "outputs": [
    {
     "name": "stdout",
     "output_type": "stream",
     "text": [
      "존재하지 않는 키에 접근하고 있습니다.\n"
     ]
    }
   ],
   "source": [
    "# 딕셔너리 내부 검색\n",
    "# in 키워드 \n",
    "# 이전에 선언된 dictionary를 이용\n",
    "\n",
    "key = input(\"> 접근하고자 하는 키: \")\n",
    "# 출력 부분\n",
    "if key in dictionary:\n",
    "    print(dictionary[key])\n",
    "else:\n",
    "    print(\"존재하지 않는 키에 접근하고 있습니다.\")\n"
   ]
  },
  {
   "cell_type": "code",
   "execution_count": 85,
   "metadata": {},
   "outputs": [
    {
     "name": "stdout",
     "output_type": "stream",
     "text": [
      "값:  None\n",
      "존재하지 않는 키에 접근 했었습니다.\n"
     ]
    }
   ],
   "source": [
    "# get() 함수\n",
    "# dictionary 키로 값을 추출\n",
    "# 존재하지 않는 키에 접근해 봅니다.\n",
    "value = dictionary.get(\"존재하지 않는 키\")\n",
    "#value = dictionary.get(\"name\")\n",
    "print(\"값: \", value)\n",
    "\n",
    "# None 확인 방법\n",
    "if value == None:\n",
    "    print(\"존재하지 않는 키에 접근 했었습니다.\")\n"
   ]
  },
  {
   "cell_type": "markdown",
   "metadata": {},
   "source": [
    "연습문제"
   ]
  },
  {
   "cell_type": "code",
   "execution_count": 86,
   "metadata": {},
   "outputs": [
    {
     "name": "stdout",
     "output_type": "stream",
     "text": [
      "Alice\n",
      "25\n"
     ]
    }
   ],
   "source": [
    "# 문제 :\n",
    "# 1) 아래의 딕셔너리를 생성한 후 \n",
    "# 2) name과 age 값을 출력하세요\n",
    "# person 딕셔너리\n",
    "# 키 : 값\n",
    "# \"name\" : \"Alice\"\n",
    "# \"age\" : 25\n",
    "# \"city\" : \"Seoul\"\n",
    "\n",
    "person = {\n",
    "    \"name\" : \"Alice\",\n",
    "    \"age\" : 25,\n",
    "    \"city\" : \"Seoul\",\n",
    "}\n",
    "print(person[\"name\"])\n",
    "print(person[\"age\"])\n"
   ]
  },
  {
   "cell_type": "code",
   "execution_count": 87,
   "metadata": {},
   "outputs": [
    {
     "name": "stdout",
     "output_type": "stream",
     "text": [
      "30\n"
     ]
    }
   ],
   "source": [
    "# 3) 딕셔너리에서 age를 30으로 업데이트 하세요\n",
    "person[\"age\"] = 30\n",
    "print(person[\"age\"])"
   ]
  },
  {
   "cell_type": "code",
   "execution_count": 88,
   "metadata": {},
   "outputs": [
    {
     "name": "stdout",
     "output_type": "stream",
     "text": [
      "Developer\n"
     ]
    }
   ],
   "source": [
    "# 4) 딕셔너리에 \"job\" 키를 추가하고 \"Developer\"로 설정하세요\n",
    "person[\"job\"] = \"Developer\"\n",
    "print(person[\"job\"])"
   ]
  },
  {
   "cell_type": "code",
   "execution_count": 89,
   "metadata": {},
   "outputs": [
    {
     "name": "stdout",
     "output_type": "stream",
     "text": [
      "{'name': 'Alice', 'age': 30, 'job': 'Developer'}\n"
     ]
    }
   ],
   "source": [
    "# 5) 딕셔너리에서 \"city\" 키를 삭제하세요\n",
    "del person[\"city\"]\n",
    "print(person)"
   ]
  },
  {
   "cell_type": "code",
   "execution_count": 90,
   "metadata": {},
   "outputs": [
    {
     "name": "stdout",
     "output_type": "stream",
     "text": [
      "키가 존재합니다.\n",
      "키가 존재합니다.\n"
     ]
    }
   ],
   "source": [
    "# 6) 딕셔너리에서 \"name\"라는 키가 존재하는 지 확인하는 코드 작성하시오\n",
    "\n",
    "# 1. if 문 + in 사용하는 방식\n",
    "if \"name\" in person:\n",
    "    print(\"키가 존재합니다.\")\n",
    "else:\n",
    "    print(\"키가 존재하지 않습니다.\")\n",
    "\n",
    "# 2. get() 함수를 이용하는 방법\n",
    "value = dictionary.get(\"name\")\n",
    "if value == None:\n",
    "    print(\"키가 존재하지 않습니다.\")\n",
    "else:\n",
    "    print(\"키가 존재합니다.\")\n"
   ]
  },
  {
   "cell_type": "markdown",
   "metadata": {},
   "source": [
    "값이 있는지 확인하는 방법\n",
    "\n",
    "values() 함수를 이용, 딕셔너리변수명.values()"
   ]
  },
  {
   "cell_type": "code",
   "execution_count": 91,
   "metadata": {},
   "outputs": [
    {
     "name": "stdout",
     "output_type": "stream",
     "text": [
      "값이 존재합니다.\n"
     ]
    }
   ],
   "source": [
    "if \"Alice\" in person.values():\n",
    "    print(\"값이 존재합니다.\")\n",
    "else:\n",
    "    print(\"값이 존재하지 않습니다.\")"
   ]
  },
  {
   "cell_type": "markdown",
   "metadata": {},
   "source": [
    "문자열, 리스트, 딕셔너리와 관련된 기본함수"
   ]
  },
  {
   "cell_type": "code",
   "execution_count": 92,
   "metadata": {},
   "outputs": [
    {
     "name": "stdout",
     "output_type": "stream",
     "text": [
      "텍스트1텍스트2\n"
     ]
    }
   ],
   "source": [
    "# 문자열 연결 연산자 : +\n",
    "text1 = \"텍스트1\"; text2 = \"텍스트2\"\n",
    "print(text1 + text2)"
   ]
  },
  {
   "cell_type": "code",
   "execution_count": 93,
   "metadata": {},
   "outputs": [
    {
     "name": "stdout",
     "output_type": "stream",
     "text": [
      "안녕하세요안녕하세요안녕하세요\n"
     ]
    }
   ],
   "source": [
    "# 문자열 반복 연산자 : *\n",
    "print(3*\"안녕하세요\")"
   ]
  },
  {
   "cell_type": "code",
   "execution_count": 94,
   "metadata": {},
   "outputs": [
    {
     "name": "stdout",
     "output_type": "stream",
     "text": [
      "==================================================\n",
      "==================================================="
     ]
    }
   ],
   "source": [
    "print(50*\"=\")\n",
    "\n",
    "for i in range(0,51,1):\n",
    "    # print문에 end= 옵션을 안넣어주면\n",
    "    # 다음 출력에 출력이 됨\n",
    "    # end=\"\", 붙여서 출력이 됨\n",
    "    print(\"=\",end=\"\")"
   ]
  },
  {
   "cell_type": "markdown",
   "metadata": {},
   "source": [
    "인덱싱 - 많이 사용\n",
    "\n",
    "문자열 내부 문자 하나를 선택\n",
    "\n",
    "문자열 외에도 리스트형 자료에 인덱싱을 사용함\n",
    "\n",
    "파이썬은 제로 인덱스 : 숫자를 0부터 셈"
   ]
  },
  {
   "cell_type": "code",
   "execution_count": 95,
   "metadata": {},
   "outputs": [
    {
     "name": "stdout",
     "output_type": "stream",
     "text": [
      "안\n",
      "녕\n",
      "하\n"
     ]
    }
   ],
   "source": [
    "text = \"안녕하세요\"\n",
    "print(text[0])\n",
    "print(text[1])\n",
    "print(text[2])"
   ]
  },
  {
   "cell_type": "code",
   "execution_count": 96,
   "metadata": {},
   "outputs": [
    {
     "name": "stdout",
     "output_type": "stream",
     "text": [
      "요\n",
      "세\n",
      "하\n"
     ]
    }
   ],
   "source": [
    "# 문자를 거꾸로 출력하려는 경우\n",
    "# text = \"안녕하세요\"\n",
    "print(text[-1])\n",
    "print(text[-2])\n",
    "print(text[-3])\n"
   ]
  },
  {
   "cell_type": "code",
   "execution_count": 97,
   "metadata": {},
   "outputs": [
    {
     "name": "stdout",
     "output_type": "stream",
     "text": [
      "녕하세\n"
     ]
    }
   ],
   "source": [
    "# 문자열 범위 선택 연산자 (슬라이싱) : [:]\n",
    "# 문자열 특정 범위를 선택\n",
    "# 대괄호 안에 범위 구분위치를 콜론으로 구분\n",
    "print(text[1:4])\n",
    "# range(0,5) -> 0,1,2,3,4\n",
    "# text[1:4] -> 1번째, 2번째, 3번째 까지만\n",
    "# 처음은 포함이 되고, 마지막은 빠짐"
   ]
  },
  {
   "cell_type": "code",
   "execution_count": 98,
   "metadata": {},
   "outputs": [
    {
     "name": "stdout",
     "output_type": "stream",
     "text": [
      "['Seoul', 'Suwon']\n",
      "['Daegu', 'Busan']\n",
      "['Seoul', 'Daegu']\n"
     ]
    }
   ],
   "source": [
    "# 문자열 뿐만이 아니라 리스트형 자료형도 슬라이싱 가능\n",
    "city = [\"Seoul\",\"Suwon\",\"Daegu\",\"Busan\",\"Incheon\"]\n",
    "#         0        1        2      3        4\n",
    "#         -5       -4       -3     -2       -1\n",
    "# 리스트형(List) => 괄호가 []\n",
    "# 딕셔너리(Dictionary) => {}\n",
    "print(city[0:2]) # 시작점 포함, 끝점 제외, 1씩 증가\n",
    "# 0, 1, 2는 X\n",
    "print(city[-3:-1]) # 시작점이 포함, 끝점 제외, 1씩증가\n",
    "# -3, -2, -1는 제외\n",
    "print(city[-5:-1:2]) #시작점 포함, 2씩 증가, 끝점 제외\n",
    "# -5, -3 -1은 제외"
   ]
  },
  {
   "cell_type": "markdown",
   "metadata": {},
   "source": [
    "len() 함수\n",
    "\n",
    "문자열 길이를 구할 때나 리스트 자료형 길이를 구할 때 사용"
   ]
  },
  {
   "cell_type": "code",
   "execution_count": 99,
   "metadata": {},
   "outputs": [
    {
     "name": "stdout",
     "output_type": "stream",
     "text": [
      "안녕하세요\n",
      "5\n",
      "['Seoul', 'Suwon', 'Daegu', 'Busan', 'Incheon']\n",
      "5\n"
     ]
    }
   ],
   "source": [
    "print(text)\n",
    "print(len(text))\n",
    "print(city)\n",
    "print(len(city))"
   ]
  },
  {
   "cell_type": "markdown",
   "metadata": {},
   "source": [
    "에러가 발생한다\n",
    "\n",
    "0. 영어 공부, 회화 x, 컴퓨터 용어 정도는 해야됨\n",
    "\n",
    "1. google 에러메시지를 검색하기\n",
    "\n",
    "2. stackoverflow 같은 곳에 검색 -> 영어, 번역기가 100% 이상함\n",
    "-> chatGPT나 Claude 같은 곳에 번역해달라고 하기\n",
    "\n",
    "3. LLM(ChatGPT, Claude)을 사용해보기"
   ]
  },
  {
   "cell_type": "code",
   "execution_count": 107,
   "metadata": {},
   "outputs": [
    {
     "name": "stdout",
     "output_type": "stream",
     "text": [
      "name: 7D 건조 망고\n"
     ]
    },
    {
     "ename": "KeyboardInterrupt",
     "evalue": "",
     "output_type": "error",
     "traceback": [
      "\u001b[1;31m---------------------------------------------------------------------------\u001b[0m",
      "\u001b[1;31mKeyboardInterrupt\u001b[0m                         Traceback (most recent call last)",
      "Cell \u001b[1;32mIn[107], line 10\u001b[0m\n\u001b[0;32m      8\u001b[0m \u001b[38;5;66;03m# 출력하기\u001b[39;00m\n\u001b[0;32m      9\u001b[0m \u001b[38;5;28mprint\u001b[39m(\u001b[38;5;124m\"\u001b[39m\u001b[38;5;124mname:\u001b[39m\u001b[38;5;124m\"\u001b[39m, dictionary[\u001b[38;5;124m\"\u001b[39m\u001b[38;5;124mname\u001b[39m\u001b[38;5;124m\"\u001b[39m])\n\u001b[1;32m---> 10\u001b[0m \u001b[38;5;28;43mprint\u001b[39;49m(\u001b[38;5;124m\"\u001b[39m\u001b[38;5;124mtype:\u001b[39m\u001b[38;5;124m\"\u001b[39m, dictionary[\u001b[38;5;124m\"\u001b[39m\u001b[38;5;124mtype\u001b[39m\u001b[38;5;124m\"\u001b[39m])\n\u001b[0;32m     11\u001b[0m \u001b[38;5;28mprint\u001b[39m(\u001b[38;5;124m\"\u001b[39m\u001b[38;5;124mingrdient:\u001b[39m\u001b[38;5;124m\"\u001b[39m, dictionary[\u001b[38;5;124m\"\u001b[39m\u001b[38;5;124mingredient\u001b[39m\u001b[38;5;124m\"\u001b[39m])\n\u001b[0;32m     12\u001b[0m \u001b[38;5;28mprint\u001b[39m(\u001b[38;5;124m\"\u001b[39m\u001b[38;5;124morigin:\u001b[39m\u001b[38;5;124m\"\u001b[39m, dictionary[\u001b[38;5;124m\"\u001b[39m\u001b[38;5;124morigin\u001b[39m\u001b[38;5;124m\"\u001b[39m])\n",
      "File \u001b[1;32m<stringsource>:69\u001b[0m, in \u001b[0;36mcfunc.to_py.__Pyx_CFunc_b0409f__29_pydevd_sys_monitoring_cython_object__lParen__etc_to_py_4code_4line.wrap\u001b[1;34m()\u001b[0m\n",
      "File \u001b[1;32m_pydevd_sys_monitoring\\\\_pydevd_sys_monitoring_cython.pyx:1465\u001b[0m, in \u001b[0;36m_pydevd_sys_monitoring_cython._line_event\u001b[1;34m()\u001b[0m\n",
      "File \u001b[1;32m_pydevd_sys_monitoring\\\\_pydevd_sys_monitoring_cython.pyx:1507\u001b[0m, in \u001b[0;36m_pydevd_sys_monitoring_cython._internal_line_event\u001b[1;34m()\u001b[0m\n",
      "File \u001b[1;32m_pydevd_sys_monitoring\\\\_pydevd_sys_monitoring_cython.pyx:1308\u001b[0m, in \u001b[0;36m_pydevd_sys_monitoring_cython._stop_on_breakpoint\u001b[1;34m()\u001b[0m\n",
      "File \u001b[1;32m_pydevd_sys_monitoring\\\\_pydevd_sys_monitoring_cython.pyx:1945\u001b[0m, in \u001b[0;36m_pydevd_sys_monitoring_cython._do_wait_suspend\u001b[1;34m()\u001b[0m\n",
      "File \u001b[1;32m~\\AppData\\Roaming\\Python\\Python313\\site-packages\\debugpy\\_vendored\\pydevd\\pydevd.py:2185\u001b[0m, in \u001b[0;36mPyDB.do_wait_suspend\u001b[1;34m(self, thread, frame, event, arg, exception_type)\u001b[0m\n\u001b[0;32m   2182\u001b[0m             from_this_thread\u001b[38;5;241m.\u001b[39mappend(frame_custom_thread_id)\n\u001b[0;32m   2184\u001b[0m     \u001b[38;5;28;01mwith\u001b[39;00m \u001b[38;5;28mself\u001b[39m\u001b[38;5;241m.\u001b[39m_threads_suspended_single_notification\u001b[38;5;241m.\u001b[39mnotify_thread_suspended(thread_id, thread, stop_reason):\n\u001b[1;32m-> 2185\u001b[0m         keep_suspended \u001b[38;5;241m=\u001b[39m \u001b[38;5;28;43mself\u001b[39;49m\u001b[38;5;241;43m.\u001b[39;49m\u001b[43m_do_wait_suspend\u001b[49m\u001b[43m(\u001b[49m\u001b[43mthread\u001b[49m\u001b[43m,\u001b[49m\u001b[43m \u001b[49m\u001b[43mframe\u001b[49m\u001b[43m,\u001b[49m\u001b[43m \u001b[49m\u001b[43mevent\u001b[49m\u001b[43m,\u001b[49m\u001b[43m \u001b[49m\u001b[43marg\u001b[49m\u001b[43m,\u001b[49m\u001b[43m \u001b[49m\u001b[43mtrace_suspend_type\u001b[49m\u001b[43m,\u001b[49m\u001b[43m \u001b[49m\u001b[43mfrom_this_thread\u001b[49m\u001b[43m,\u001b[49m\u001b[43m \u001b[49m\u001b[43mframes_tracker\u001b[49m\u001b[43m)\u001b[49m\n\u001b[0;32m   2187\u001b[0m frames_list \u001b[38;5;241m=\u001b[39m \u001b[38;5;28;01mNone\u001b[39;00m\n\u001b[0;32m   2189\u001b[0m \u001b[38;5;28;01mif\u001b[39;00m keep_suspended:\n\u001b[0;32m   2190\u001b[0m     \u001b[38;5;66;03m# This means that we should pause again after a set next statement.\u001b[39;00m\n",
      "File \u001b[1;32m~\\AppData\\Roaming\\Python\\Python313\\site-packages\\debugpy\\_vendored\\pydevd\\pydevd.py:2254\u001b[0m, in \u001b[0;36mPyDB._do_wait_suspend\u001b[1;34m(self, thread, frame, event, arg, trace_suspend_type, from_this_thread, frames_tracker)\u001b[0m\n\u001b[0;32m   2251\u001b[0m                 queue\u001b[38;5;241m.\u001b[39mput(internal_cmd)\n\u001b[0;32m   2252\u001b[0m                 wait_timeout \u001b[38;5;241m=\u001b[39m TIMEOUT_FAST\n\u001b[1;32m-> 2254\u001b[0m         \u001b[43mnotify_event\u001b[49m\u001b[38;5;241;43m.\u001b[39;49m\u001b[43mwait\u001b[49m\u001b[43m(\u001b[49m\u001b[43mwait_timeout\u001b[49m\u001b[43m)\u001b[49m\n\u001b[0;32m   2255\u001b[0m         notify_event\u001b[38;5;241m.\u001b[39mclear()\n\u001b[0;32m   2257\u001b[0m \u001b[38;5;28;01mfinally\u001b[39;00m:\n",
      "File \u001b[1;32mc:\\Users\\HKIT\\AppData\\Local\\Programs\\Python\\Python313\\Lib\\threading.py:659\u001b[0m, in \u001b[0;36mEvent.wait\u001b[1;34m(self, timeout)\u001b[0m\n\u001b[0;32m    657\u001b[0m signaled \u001b[38;5;241m=\u001b[39m \u001b[38;5;28mself\u001b[39m\u001b[38;5;241m.\u001b[39m_flag\n\u001b[0;32m    658\u001b[0m \u001b[38;5;28;01mif\u001b[39;00m \u001b[38;5;129;01mnot\u001b[39;00m signaled:\n\u001b[1;32m--> 659\u001b[0m     signaled \u001b[38;5;241m=\u001b[39m \u001b[38;5;28;43mself\u001b[39;49m\u001b[38;5;241;43m.\u001b[39;49m\u001b[43m_cond\u001b[49m\u001b[38;5;241;43m.\u001b[39;49m\u001b[43mwait\u001b[49m\u001b[43m(\u001b[49m\u001b[43mtimeout\u001b[49m\u001b[43m)\u001b[49m\n\u001b[0;32m    660\u001b[0m \u001b[38;5;28;01mreturn\u001b[39;00m signaled\n",
      "File \u001b[1;32mc:\\Users\\HKIT\\AppData\\Local\\Programs\\Python\\Python313\\Lib\\threading.py:363\u001b[0m, in \u001b[0;36mCondition.wait\u001b[1;34m(self, timeout)\u001b[0m\n\u001b[0;32m    361\u001b[0m \u001b[38;5;28;01melse\u001b[39;00m:\n\u001b[0;32m    362\u001b[0m     \u001b[38;5;28;01mif\u001b[39;00m timeout \u001b[38;5;241m>\u001b[39m \u001b[38;5;241m0\u001b[39m:\n\u001b[1;32m--> 363\u001b[0m         gotit \u001b[38;5;241m=\u001b[39m \u001b[43mwaiter\u001b[49m\u001b[38;5;241;43m.\u001b[39;49m\u001b[43macquire\u001b[49m\u001b[43m(\u001b[49m\u001b[38;5;28;43;01mTrue\u001b[39;49;00m\u001b[43m,\u001b[49m\u001b[43m \u001b[49m\u001b[43mtimeout\u001b[49m\u001b[43m)\u001b[49m\n\u001b[0;32m    364\u001b[0m     \u001b[38;5;28;01melse\u001b[39;00m:\n\u001b[0;32m    365\u001b[0m         gotit \u001b[38;5;241m=\u001b[39m waiter\u001b[38;5;241m.\u001b[39macquire(\u001b[38;5;28;01mFalse\u001b[39;00m)\n",
      "\u001b[1;31mKeyboardInterrupt\u001b[0m: "
     ]
    }
   ],
   "source": [
    "# 딕셔너리 요소에 접근하기\n",
    "dictionary = {\n",
    "    \"name\": \"7D 건조 망고\",\n",
    "    \"type\": \"당절임\",\n",
    "    \"ingredient\": [\"망고\",\"설탕\",\"메타중아황산나트륨\",\"치자황색소\"], # 데이터가 리스트 타입입니다.\n",
    "    \"origin\":\"필리핀\"\n",
    "}\n",
    "# 출력하기\n",
    "print(\"name:\", dictionary[\"name\"])\n",
    "print(\"type:\", dictionary[\"type\"])\n",
    "print(\"ingrdient:\", dictionary[\"ingredient\"])\n",
    "print(\"origin:\", dictionary[\"origin\"])\n",
    "print()\n",
    "\n",
    "# 반복문 사용 출력하기\n",
    "for key, value in dictionary.items():\n",
    "    print(f\"{key}: {value}\")      \n",
    "\n",
    "# 에러 코드에 어디 행에서 오류가 났는지 확인\n",
    "# 몇번행에서 에러가 났는지 확인\n",
    "# SyntaxError 등의 에러 유형\n",
    "# 0) 이 부근에서 오류가 난 것이 없는지 확인\n",
    "# Vs Code 상에 이상한 문법\n",
    "# 1) 오류 내용을 붙여서 구글링 검색\n",
    "# 2) Stackoverflow 검색, 번역기 사용\n",
    "# 3) LLM 사용 코드랑 에러랑 넣으면 답을 줌,\n",
    "# 100%아니니 항상 유의해야함\n"
   ]
  },
  {
   "cell_type": "markdown",
   "metadata": {},
   "source": [
    "참고\n",
    "python에서 변수 출력하는 방법 3가지가 있음\n",
    "\n",
    "1. % 포맷 연산자 (이전 방식)\n",
    "name = \"망고\"\n",
    "type = \"건조과일\"\n",
    "print(\"과일 이름: %s, 종류: %s\" % (name,type)) \n",
    "- 계속 배우고 있는 형태\n",
    "\n",
    "2. f-strings (포맷 문자열 리터럴) - 최신, 권장\n",
    "name = \"망고\"\n",
    "type = \"건조과일\"\n",
    "prinf(f\"과일 이름: {name}, 종류 : {type}\")\n",
    "\n",
    "3. str.format() 메서드\n",
    "name = \"망고\"\n",
    "type = \"건조과일\"\n",
    "print(\"과일이름: {}, 종류: {}\".format(name,type))"
   ]
  },
  {
   "cell_type": "code",
   "execution_count": 113,
   "metadata": {},
   "outputs": [
    {
     "name": "stdout",
     "output_type": "stream",
     "text": [
      "5000만 원\n",
      "1 문자열 True\n"
     ]
    }
   ],
   "source": [
    "format_a = \"{}만 원\".format(5000)\n",
    "format_d = \"{} {} {}\".format(1,\"문자열\",True)\n",
    "print(format_a)\n",
    "print(format_d)"
   ]
  },
  {
   "cell_type": "code",
   "execution_count": 116,
   "metadata": {},
   "outputs": [
    {
     "name": "stdout",
     "output_type": "stream",
     "text": [
      "5000만 원\n",
      "1 문자열 True\n"
     ]
    }
   ],
   "source": [
    "money = 5000; number = 1; text=\"문자열\"; flag=True \n",
    "print(f\"{money}만 원\")\n",
    "print(f\"{number} {text} {flag}\")"
   ]
  },
  {
   "cell_type": "markdown",
   "metadata": {},
   "source": [
    "정수 출력의 다양한 형태 - f-strings"
   ]
  },
  {
   "cell_type": "code",
   "execution_count": 125,
   "metadata": {},
   "outputs": [
    {
     "name": "stdout",
     "output_type": "stream",
     "text": [
      "52\n",
      "특정 칸에 출력하기\n",
      "   52\n",
      "00052\n",
      "-0052\n"
     ]
    }
   ],
   "source": [
    "number = 52\n",
    "number2 = -52\n",
    "output_a = f\"{number:d}\"\n",
    "\n",
    "#특정 칸에 출력하기\n",
    "\n",
    "output_b = f\"{number:5d}\" # 총 5칸으로하고 오른쪽 정렬 후 출력\n",
    "output_d = f\"{number:05d}\" # 총 5간으로하고 0으로 빈칸 채우기\n",
    "output_e = f\"{number2:05d}\"\n",
    "print(output_a)\n",
    "\n",
    "print(\"특정 칸에 출력하기\")\n",
    "print(output_b)\n",
    "print(output_d)\n",
    "print(output_e)\n"
   ]
  },
  {
   "cell_type": "markdown",
   "metadata": {},
   "source": [
    "기호 붙여 출력하기"
   ]
  },
  {
   "cell_type": "code",
   "execution_count": null,
   "metadata": {},
   "outputs": [
    {
     "name": "stdout",
     "output_type": "stream",
     "text": [
      "# 기호와 함께 출력하기\n",
      "+52\n",
      "-52\n",
      " 52\n",
      "-52\n"
     ]
    }
   ],
   "source": [
    "# 기호와 함께 출력하기\n",
    "number = 52\n",
    "number2 = -52\n",
    "output_f = f\"{number:+d}\" # 양수, +가 추가후 출력\n",
    "output_g = f\"{number2:+d}\" # 음수, -가 추가후 출력\n",
    "output_h = f\"{number: d}\" # 양수 : 기호 부분 공백\n",
    "output_i = f\"{number2: d}\" #음수 : 기호 부분 공백, -가 있어서 - 추가\n",
    "\n",
    "print(\"# 기호와 함께 출력하기\")\n",
    "print(output_f);print(output_g);print(output_h);\n",
    "print(output_i)"
   ]
  },
  {
   "cell_type": "markdown",
   "metadata": {},
   "source": [
    "소수점 아래 자릿수 지정하기"
   ]
  },
  {
   "cell_type": "code",
   "execution_count": 128,
   "metadata": {},
   "outputs": [
    {
     "name": "stdout",
     "output_type": "stream",
     "text": [
      "         52.273\n",
      "          52.27\n",
      "           52.3\n"
     ]
    }
   ],
   "source": [
    "number = 52.273\n",
    "output_a = f\"{number:15.3f}\" \n",
    "output_b = f\"{number:15.2f}\" \n",
    "output_c = f\"{number:15.1f}\" \n",
    "\n",
    "print(output_a)\n",
    "print(output_b)\n",
    "print(output_c)"
   ]
  },
  {
   "cell_type": "markdown",
   "metadata": {},
   "source": [
    "의미 없는 소수점 제거하기\n",
    "\n",
    "{:g}"
   ]
  },
  {
   "cell_type": "code",
   "execution_count": 129,
   "metadata": {},
   "outputs": [
    {
     "name": "stdout",
     "output_type": "stream",
     "text": [
      "52.0\n",
      "52\n"
     ]
    }
   ],
   "source": [
    "output_a = 52.0\n",
    "output_b = f\"{output_a:g}\"\n",
    "print(output_a)\n",
    "print(output_b)"
   ]
  },
  {
   "cell_type": "code",
   "execution_count": 134,
   "metadata": {},
   "outputs": [
    {
     "name": "stdout",
     "output_type": "stream",
     "text": [
      "2.0\n",
      "2\n"
     ]
    }
   ],
   "source": [
    "num1 = 20 ;num2 = 10\n",
    "print(num1/num2) # 정수를 연산했기 때문에 정수가 나오면 좋겠음\n",
    "print(f\"{num1/num2:g}\")"
   ]
  },
  {
   "cell_type": "markdown",
   "metadata": {},
   "source": [
    "문자열 다루기"
   ]
  },
  {
   "cell_type": "markdown",
   "metadata": {},
   "source": [
    "문자열변수.upper() -> 모두 대문자로 변경\n",
    "\n",
    "문자열변수.lower() -> 모두 소문자로 변경"
   ]
  },
  {
   "cell_type": "code",
   "execution_count": 135,
   "metadata": {},
   "outputs": [
    {
     "name": "stdout",
     "output_type": "stream",
     "text": [
      "DAEGU\n",
      "daegu\n"
     ]
    }
   ],
   "source": [
    "a = \"Daegu\"\n",
    "print(a.upper())\n",
    "print(a.lower())"
   ]
  },
  {
   "cell_type": "markdown",
   "metadata": {},
   "source": [
    "strip() 함수, lstrip() 함수, rstrip() 함수\n",
    "\n",
    "strip() 문자열 양 쪽 끝의 공백 또는 지정된 문자를 제거\n",
    "\n",
    "lstrip() 문자열 왼쪽(시작 부분)에서 공백 또는 지정된 문자를 제거\n",
    "\n",
    "rstrip() 문자열 오른쪽(끝 부분)에서 공백 또는 지정된 문자를 제거"
   ]
  },
  {
   "cell_type": "code",
   "execution_count": 137,
   "metadata": {},
   "outputs": [
    {
     "name": "stdout",
     "output_type": "stream",
     "text": [
      "Hello, World!\n",
      "Hello, World!\n"
     ]
    }
   ],
   "source": [
    "text = \"   Hello, World!    \"\n",
    "print(text.strip())\n",
    "\n",
    "text = \"###Hello, World!###\"\n",
    "print(text.strip('#'))"
   ]
  },
  {
   "cell_type": "code",
   "execution_count": 138,
   "metadata": {},
   "outputs": [
    {
     "name": "stdout",
     "output_type": "stream",
     "text": [
      "Hello, World!    \n",
      "Hello, World!###\n"
     ]
    }
   ],
   "source": [
    "# lstrip() 함수\n",
    "text = \"   Hello, World!    \"\n",
    "print(text.lstrip())\n",
    "\n",
    "text = \"###Hello, World!###\"\n",
    "print(text.lstrip('#'))\n"
   ]
  },
  {
   "cell_type": "code",
   "execution_count": 139,
   "metadata": {},
   "outputs": [
    {
     "name": "stdout",
     "output_type": "stream",
     "text": [
      "   Hello, World!\n",
      "###Hello, World!\n"
     ]
    }
   ],
   "source": [
    "# rstrip() 함수\n",
    "text = \"   Hello, World!    \"\n",
    "print(text.rstrip())\n",
    "\n",
    "text = \"###Hello, World!###\"\n",
    "print(text.rstrip('#'))\n"
   ]
  },
  {
   "cell_type": "markdown",
   "metadata": {},
   "source": [
    "정규 표현식 (Regular Expression)\n",
    "\n",
    "패턴을 기반으로 문자열을 검색, 추출, 수정하거 검증하는 방법입니다.\n",
    "\n",
    "예) 회원 가입 - 이메일 형식 검증 => 정규 표현식"
   ]
  },
  {
   "cell_type": "code",
   "execution_count": 140,
   "metadata": {},
   "outputs": [
    {
     "name": "stdout",
     "output_type": "stream",
     "text": [
      "유효한 이메일 주소입니다.\n"
     ]
    }
   ],
   "source": [
    "import re\n",
    "email = \"example@domain.com\"\n",
    "pattern = r\"^[a-zA-Z0-9._%+-]+@[a-zA-Z0-9.-]+\\.[a-zA-Z]{2,}$\"\n",
    "if re.match(pattern, email):\n",
    "\tprint(\"유효한 이메일 주소입니다.\")\n",
    "else:\n",
    "\tprint(\"유효하지 않은 이메일 주소입니다.\")"
   ]
  },
  {
   "cell_type": "markdown",
   "metadata": {},
   "source": [
    "문자열을 찾는 함수\n",
    "\n",
    "find() : 왼쪽부터 찾아서 처음 등장하는 위치를 찾음\n",
    "\n",
    "rfind() : 오른쪽부터 찾아서 처음 등장하는 위치를 찾음\n",
    "\n",
    "- 인덱스 기준은 왼쪽부터\n",
    "\n"
   ]
  },
  {
   "cell_type": "code",
   "execution_count": 141,
   "metadata": {},
   "outputs": [
    {
     "name": "stdout",
     "output_type": "stream",
     "text": [
      "0\n",
      "2\n"
     ]
    }
   ],
   "source": [
    "output_a = \"안녕안녕하세요\".find(\"안녕\")\n",
    "print(output_a)\n",
    "\n",
    "output_b = \"안녕안녕하세요\".rfind(\"안녕\")\n",
    "print(output_b)"
   ]
  },
  {
   "cell_type": "markdown",
   "metadata": {},
   "source": [
    "split() 함수\n",
    "\n",
    "- 문자열을 특정한 문자로 자름"
   ]
  },
  {
   "cell_type": "code",
   "execution_count": 143,
   "metadata": {},
   "outputs": [
    {
     "name": "stdout",
     "output_type": "stream",
     "text": [
      "['10', '20', '30', '40', '50']\n"
     ]
    }
   ],
   "source": [
    "a = \"10 20 30 40 50\".split(\" \")\n",
    "print(a)"
   ]
  },
  {
   "cell_type": "markdown",
   "metadata": {},
   "source": [
    "리스트 자료에서 최대, 최소, 합 구하기\n",
    "\n",
    "min()\n",
    "\n",
    "max()\n",
    "\n",
    "sum()"
   ]
  },
  {
   "cell_type": "code",
   "execution_count": 144,
   "metadata": {},
   "outputs": [
    {
     "name": "stdout",
     "output_type": "stream",
     "text": [
      "21\n",
      "103\n",
      "233\n"
     ]
    }
   ],
   "source": [
    "numbers = [103, 42, 23, 44, 21]\n",
    "\n",
    "print(min(numbers))\n",
    "print(max(numbers))\n",
    "print(sum(numbers))"
   ]
  },
  {
   "cell_type": "markdown",
   "metadata": {},
   "source": [
    "순서 뒤집기 함수\n",
    "\n",
    "reversed()"
   ]
  },
  {
   "cell_type": "code",
   "execution_count": 157,
   "metadata": {},
   "outputs": [
    {
     "name": "stdout",
     "output_type": "stream",
     "text": [
      "<list_reverseiterator object at 0x0000021796157400>\n",
      "[21, 44, 23, 42, 103]\n",
      "21\n",
      "44\n",
      "23\n",
      "42\n",
      "103\n"
     ]
    }
   ],
   "source": [
    "reversed_numbers = reversed(numbers)\n",
    "# 아래와 같이 하면 요소가 출력 X\n",
    "print(reversed_numbers)\n",
    "# 출력을 하려면\n",
    "# list함수를 이용\n",
    "print(list(reversed_numbers))\n",
    "\n",
    "# 각 요소 출력하는 방법\n",
    "for i in reversed(numbers):\n",
    "    print(i)\n",
    "\n",
    "# reversed() 함수 -> 이터레이터(iterator)를 반환하는 객체\n",
    "# 반복을 지원하는 객체, 한 번 소모되면 다시사용할 수가 없음\n",
    "# 동일한 데이터를 반복 사용하려면 list()로 변환하거나 \n",
    "# reversed() 다시호출해서 이터레이터를 재생"
   ]
  },
  {
   "cell_type": "markdown",
   "metadata": {},
   "source": [
    "enumerate() 함수\n",
    "\n",
    "리스트 요소를 반복할 때 현재 인덱스가 몇번째인지 확인하는 함수"
   ]
  },
  {
   "cell_type": "code",
   "execution_count": 158,
   "metadata": {},
   "outputs": [
    {
     "name": "stdout",
     "output_type": "stream",
     "text": [
      "0번째 요소는 요소A입니다.\n",
      "1번째 요소는 요소B입니다.\n",
      "2번째 요소는 요소C입니다.\n",
      "0번째 요소는 요소A입니다.\n",
      "1번째 요소는 요소B입니다.\n",
      "2번째 요소는 요소C입니다.\n"
     ]
    }
   ],
   "source": [
    "example_list = [\"요소A\", \"요소B\", \"요소C\"]\n",
    "i = 0\n",
    "for item in example_list:\n",
    "    print(f\"{i}번째 요소는 {item}입니다.\")\n",
    "    i += 1\n",
    "\n",
    "for index, value in enumerate(example_list):\n",
    "    print(f\"{index}번째 요소는 {value}입니다.\")"
   ]
  }
 ],
 "metadata": {
  "kernelspec": {
   "display_name": "Python 3",
   "language": "python",
   "name": "python3"
  },
  "language_info": {
   "codemirror_mode": {
    "name": "ipython",
    "version": 3
   },
   "file_extension": ".py",
   "mimetype": "text/x-python",
   "name": "python",
   "nbconvert_exporter": "python",
   "pygments_lexer": "ipython3",
   "version": "3.13.0"
  }
 },
 "nbformat": 4,
 "nbformat_minor": 2
}
