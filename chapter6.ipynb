{
 "cells": [
  {
   "cell_type": "markdown",
   "metadata": {},
   "source": [
    "Chapter 6"
   ]
  },
  {
   "cell_type": "markdown",
   "metadata": {},
   "source": [
    "딕셔너리\n",
    "\n",
    "키를 기반으로 여러 자료를 저장하는 자료형\n",
    "\n",
    "키 : 딕셔너리 내부에어 값을 접근 때 사용하는 것\n",
    "\n",
    "값 : 딕셔너리 내부에 있는 각각의 내용\n",
    "\n",
    "참고로 JSON과 비슷한 형태이다. JSON -> 웹 개발 할 때 많이 사용"
   ]
  },
  {
   "cell_type": "code",
   "execution_count": null,
   "metadata": {},
   "outputs": [],
   "source": [
    "# 변수명 = {} 중괄호 사용\n",
    "dict_a = {\n",
    "    # 키 : 값 형태, 키와 값이 페이를 갖는다\n",
    "    \"name\": \"어밴저스 엔드게임\",\n",
    "    \"type\": \"히어로 무비\"\n",
    "}"
   ]
  },
  {
   "cell_type": "code",
   "execution_count": 3,
   "metadata": {},
   "outputs": [
    {
     "data": {
      "text/plain": [
       "'어밴저스 엔드게임'"
      ]
     },
     "execution_count": 3,
     "metadata": {},
     "output_type": "execute_result"
    }
   ],
   "source": [
    "# 딕셔너리 값을 조회\n",
    "dict_a[\"name\"]"
   ]
  },
  {
   "cell_type": "code",
   "execution_count": null,
   "metadata": {},
   "outputs": [
    {
     "data": {
      "text/plain": [
       "'어밴저스'"
      ]
     },
     "execution_count": 5,
     "metadata": {},
     "output_type": "execute_result"
    }
   ],
   "source": [
    "# 딕셔너리 값을 바꾸기\n",
    "dict_a[\"name\"] = \"어밴저스\"\n",
    "dict_a[\"name\"]"
   ]
  },
  {
   "cell_type": "code",
   "execution_count": 7,
   "metadata": {},
   "outputs": [
    {
     "data": {
      "text/plain": [
       "{'name': '어밴저스', 'type': '히어로 무비', 'date': '20241204'}"
      ]
     },
     "execution_count": 7,
     "metadata": {},
     "output_type": "execute_result"
    }
   ],
   "source": [
    "# 딕셔너리에 새로운 키: 값을 추가하기\n",
    "dict_a[\"date\"] = \"20241204\"\n",
    "dict_a"
   ]
  },
  {
   "cell_type": "code",
   "execution_count": null,
   "metadata": {},
   "outputs": [],
   "source": [
    "# 딕셔너리 요소에 접근하기\n",
    "dictionary = {\n",
    "    \"name\": \"7D 건조 망고\",\n",
    "    \"type\": \"당절임\",\n",
    "    \"ingredient\": [\"망고\",\"설탕\",\"메타중아황산나트륨\",\"치자황색소\"], # 데이터가 리스트 타입입니다.\n",
    "    \"origin\":\"필리핀\"\n",
    "}\n",
    "# 출력하기\n",
    "print(\"name:\", dictionary[\"name\"])\n",
    "print(\"type:\", dictionary[\"type\"])\n",
    "print(\"ingrdient:\", dictionary[\"ingredient\"])\n",
    "print(\"origin:\", dictionary[\"origin\"])\n",
    "print()\n",
    "\n",
    "# 반복문 사용 출력하기\n",
    "for key, value in dictionary.items():\n",
    "    print(f\"{key}: {value}\")"
   ]
  },
  {
   "cell_type": "code",
   "execution_count": 13,
   "metadata": {},
   "outputs": [
    {
     "name": "stdout",
     "output_type": "stream",
     "text": [
      "name: 8D 건조 망고\n"
     ]
    }
   ],
   "source": [
    "# 값을 변경하기\n",
    "dictionary[\"name\"] = \"8D 건조 망고\"\n",
    "print(\"name:\", dictionary[\"name\"])"
   ]
  },
  {
   "cell_type": "code",
   "execution_count": 14,
   "metadata": {},
   "outputs": [
    {
     "data": {
      "text/plain": [
       "['망고', '설탕', '메타중아황산나트륨', '치자황색소']"
      ]
     },
     "execution_count": 14,
     "metadata": {},
     "output_type": "execute_result"
    }
   ],
   "source": [
    "# 리스트가 값으로 갖는 경우 어떻게 출력을 할까?\n",
    "dictionary[\"ingredient\"]"
   ]
  },
  {
   "cell_type": "code",
   "execution_count": 16,
   "metadata": {},
   "outputs": [
    {
     "data": {
      "text/plain": [
       "'설탕'"
      ]
     },
     "execution_count": 16,
     "metadata": {},
     "output_type": "execute_result"
    }
   ],
   "source": [
    "# dictionary[\"ingredient\"] -> 리스트\n",
    "# 리스트 형태의 요소를 출력하려면 인덱스\n",
    "# 추가로 []에 인덱스 번호를 넣으면 됨\n",
    "dictionary[\"ingredient\"][1]"
   ]
  },
  {
   "cell_type": "code",
   "execution_count": 17,
   "metadata": {},
   "outputs": [
    {
     "data": {
      "text/plain": [
       "'메타중아황산나트륨'"
      ]
     },
     "execution_count": 17,
     "metadata": {},
     "output_type": "execute_result"
    }
   ],
   "source": [
    "dictionary[\"ingredient\"][2]"
   ]
  },
  {
   "cell_type": "code",
   "execution_count": 18,
   "metadata": {},
   "outputs": [
    {
     "data": {
      "text/plain": [
       "{'name': '8D 건조 망고',\n",
       " 'type': '당절임',\n",
       " 'ingredient': ['망고', '설탕', '메타중아황산나트륨', '치자황색소'],\n",
       " 'origin': '필리핀'}"
      ]
     },
     "execution_count": 18,
     "metadata": {},
     "output_type": "execute_result"
    }
   ],
   "source": [
    "# 딕셔너리의 요소를 제거하는 방법\n",
    "dictionary"
   ]
  },
  {
   "cell_type": "code",
   "execution_count": null,
   "metadata": {},
   "outputs": [],
   "source": [
    "del dictionary[\"origin\"]"
   ]
  },
  {
   "cell_type": "code",
   "execution_count": 21,
   "metadata": {},
   "outputs": [
    {
     "data": {
      "text/plain": [
       "{'name': '8D 건조 망고',\n",
       " 'type': '당절임',\n",
       " 'ingredient': ['망고', '설탕', '메타중아황산나트륨', '치자황색소']}"
      ]
     },
     "execution_count": 21,
     "metadata": {},
     "output_type": "execute_result"
    }
   ],
   "source": [
    "dictionary"
   ]
  },
  {
   "cell_type": "code",
   "execution_count": 25,
   "metadata": {},
   "outputs": [
    {
     "name": "stdout",
     "output_type": "stream",
     "text": [
      "존재하지 않는 키에 접근하고 있습니다.\n"
     ]
    }
   ],
   "source": [
    "# 딕셔너리 내부 검색\n",
    "# in 키워드 \n",
    "# 이전에 선언된 dictionary를 이용\n",
    "\n",
    "key = input(\"> 접근하고자 하는 키: \")\n",
    "# 출력 부분\n",
    "if key in dictionary:\n",
    "    print(dictionary[key])\n",
    "else:\n",
    "    print(\"존재하지 않는 키에 접근하고 있습니다.\")\n"
   ]
  },
  {
   "cell_type": "code",
   "execution_count": 28,
   "metadata": {},
   "outputs": [
    {
     "name": "stdout",
     "output_type": "stream",
     "text": [
      "값:  None\n",
      "존재하지 않는 키에 접근 했었습니다.\n"
     ]
    }
   ],
   "source": [
    "# get() 함수\n",
    "# dictionary 키로 값을 추출\n",
    "# 존재하지 않는 키에 접근해 봅니다.\n",
    "value = dictionary.get(\"존재하지 않는 키\")\n",
    "#value = dictionary.get(\"name\")\n",
    "print(\"값: \", value)\n",
    "\n",
    "# None 확인 방법\n",
    "if value == None:\n",
    "    print(\"존재하지 않는 키에 접근 했었습니다.\")\n"
   ]
  },
  {
   "cell_type": "markdown",
   "metadata": {},
   "source": [
    "연습문제"
   ]
  },
  {
   "cell_type": "code",
   "execution_count": 31,
   "metadata": {},
   "outputs": [
    {
     "name": "stdout",
     "output_type": "stream",
     "text": [
      "Alice\n",
      "25\n"
     ]
    }
   ],
   "source": [
    "# 문제 :\n",
    "# 1) 아래의 딕셔너리를 생성한 후 \n",
    "# 2) name과 age 값을 출력하세요\n",
    "# person 딕셔너리\n",
    "# 키 : 값\n",
    "# \"name\" : \"Alice\"\n",
    "# \"age\" : 25\n",
    "# \"city\" : \"Seoul\"\n",
    "\n",
    "person = {\n",
    "    \"name\" : \"Alice\",\n",
    "    \"age\" : 25,\n",
    "    \"city\" : \"Seoul\",\n",
    "}\n",
    "print(person[\"name\"])\n",
    "print(person[\"age\"])\n"
   ]
  },
  {
   "cell_type": "code",
   "execution_count": 33,
   "metadata": {},
   "outputs": [
    {
     "name": "stdout",
     "output_type": "stream",
     "text": [
      "30\n"
     ]
    }
   ],
   "source": [
    "# 3) 딕셔너리에서 age를 30으로 업데이트 하세요\n",
    "person[\"age\"] = 30\n",
    "print(person[\"age\"])"
   ]
  },
  {
   "cell_type": "code",
   "execution_count": 34,
   "metadata": {},
   "outputs": [
    {
     "name": "stdout",
     "output_type": "stream",
     "text": [
      "Developer\n"
     ]
    }
   ],
   "source": [
    "# 4) 딕셔너리에 \"job\" 키를 추가하고 \"Developer\"로 설정하세요\n",
    "person[\"job\"] = \"Developer\"\n",
    "print(person[\"job\"])"
   ]
  },
  {
   "cell_type": "code",
   "execution_count": 35,
   "metadata": {},
   "outputs": [
    {
     "name": "stdout",
     "output_type": "stream",
     "text": [
      "{'name': 'Alice', 'age': 30, 'job': 'Developer'}\n"
     ]
    }
   ],
   "source": [
    "# 5) 딕셔너리에서 \"city\" 키를 삭제하세요\n",
    "del person[\"city\"]\n",
    "print(person)"
   ]
  },
  {
   "cell_type": "code",
   "execution_count": 41,
   "metadata": {},
   "outputs": [
    {
     "name": "stdout",
     "output_type": "stream",
     "text": [
      "키가 존재합니다.\n",
      "키가 존재합니다.\n"
     ]
    }
   ],
   "source": [
    "# 6) 딕셔너리에서 \"name\"라는 키가 존재하는 지 확인하는 코드 작성하시오\n",
    "\n",
    "# 1. if 문 + in 사용하는 방식\n",
    "if \"name\" in person:\n",
    "    print(\"키가 존재합니다.\")\n",
    "else:\n",
    "    print(\"키가 존재하지 않습니다.\")\n",
    "\n",
    "# 2. get() 함수를 이용하는 방법\n",
    "value = dictionary.get(\"name\")\n",
    "if value == None:\n",
    "    print(\"키가 존재하지 않습니다.\")\n",
    "else:\n",
    "    print(\"키가 존재합니다.\")\n"
   ]
  },
  {
   "cell_type": "markdown",
   "metadata": {},
   "source": [
    "값이 있는지 확인하는 방법\n",
    "\n",
    "values() 함수를 이용, 딕셔너리변수명.values()"
   ]
  },
  {
   "cell_type": "code",
   "execution_count": null,
   "metadata": {},
   "outputs": [],
   "source": [
    "if \"Alice\" in person.values():\n",
    "    print(\"값이 존재합니다.\")\n",
    "else:\n",
    "    print(\"값이 존재하지 않습니다.\")"
   ]
  }
 ],
 "metadata": {
  "kernelspec": {
   "display_name": "Python 3",
   "language": "python",
   "name": "python3"
  },
  "language_info": {
   "codemirror_mode": {
    "name": "ipython",
    "version": 3
   },
   "file_extension": ".py",
   "mimetype": "text/x-python",
   "name": "python",
   "nbconvert_exporter": "python",
   "pygments_lexer": "ipython3",
   "version": "3.13.0"
  }
 },
 "nbformat": 4,
 "nbformat_minor": 2
}
