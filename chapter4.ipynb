{
 "cells": [
  {
   "cell_type": "markdown",
   "metadata": {},
   "source": [
    "Chapter 4"
   ]
  },
  {
   "cell_type": "markdown",
   "metadata": {},
   "source": [
    "조건문"
   ]
  },
  {
   "cell_type": "code",
   "execution_count": 6,
   "metadata": {},
   "outputs": [
    {
     "name": "stdout",
     "output_type": "stream",
     "text": [
      "100보다 작군요\n",
      "aaaa\n"
     ]
    }
   ],
   "source": [
    "a = 99\n",
    "if a < 100:\n",
    "    print(\"100보다 작군요\")\n",
    "    print(\"aaaa\")"
   ]
  },
  {
   "cell_type": "code",
   "execution_count": 7,
   "metadata": {},
   "outputs": [],
   "source": [
    "a = 101\n",
    "if a < 100:\n",
    "    print(\"100보다 작군요\")\n",
    "    print(\"aaaa\")"
   ]
  },
  {
   "cell_type": "markdown",
   "metadata": {},
   "source": [
    "if else 문"
   ]
  },
  {
   "cell_type": "code",
   "execution_count": 8,
   "metadata": {},
   "outputs": [
    {
     "name": "stdout",
     "output_type": "stream",
     "text": [
      "100보다 크군요!\n"
     ]
    }
   ],
   "source": [
    "a = 200\n",
    "\n",
    "if a < 200:\n",
    "    print(\"100보다 작군요!\")\n",
    "else:\n",
    "    print(\"100보다 크군요!\")"
   ]
  },
  {
   "cell_type": "markdown",
   "metadata": {},
   "source": [
    "정수를 입력 받으면\n",
    "\n",
    "홀수인지 짝수인지 판별해서 출력하는 프로그램\n",
    "\n",
    "5줄 코딩 가능 : input(), print(), if else()\n",
    "\n",
    "짝수 -> 2로 나눴을때 나머지 0\n",
    "\n",
    "홀수 -> 2로 나눴을때 나머지 1\n",
    "\n"
   ]
  },
  {
   "cell_type": "code",
   "execution_count": 12,
   "metadata": {},
   "outputs": [
    {
     "name": "stdout",
     "output_type": "stream",
     "text": [
      "홀수 입니다.\n"
     ]
    }
   ],
   "source": [
    "number = int(input(\"정수를 입력하시오\"))\n",
    "\n",
    "#나머지 연산 %\n",
    "if number%2 == 0:\n",
    "    print(\"짝수 입니다.\")\n",
    "else:\n",
    "    print(\"홀수 입니다.\")"
   ]
  },
  {
   "cell_type": "markdown",
   "metadata": {},
   "source": [
    "중첩 if문"
   ]
  },
  {
   "cell_type": "code",
   "execution_count": 13,
   "metadata": {},
   "outputs": [
    {
     "name": "stdout",
     "output_type": "stream",
     "text": [
      "50보다 크고 100보다 작군요.\n"
     ]
    }
   ],
   "source": [
    "a = 75\n",
    "\n",
    "if a > 50:\n",
    "    if a < 100:\n",
    "        print(\"50보다 크고 100보다 작군요.\")\n",
    "    else:\n",
    "        print(\"와 ~ 100보다 크군요\")\n",
    "else:\n",
    "    print(\"에고 ~50보다 작군요.\")"
   ]
  },
  {
   "cell_type": "markdown",
   "metadata": {},
   "source": [
    "if elif else 문\n",
    "\n",
    "elif : else + if"
   ]
  },
  {
   "cell_type": "code",
   "execution_count": null,
   "metadata": {},
   "outputs": [
    {
     "name": "stdout",
     "output_type": "stream",
     "text": [
      "A 학점입니다.\n"
     ]
    }
   ],
   "source": [
    "score = int(input(\"점수를 입력하세요 : \"))\n",
    "\n",
    "if score >= 90:\n",
    "    print(\"A\")\n",
    "elif score >= 80:\n",
    "    print(\"B\")\n",
    "elif score >= 70:\n",
    "    print(\"C\")\n",
    "elif score >= 60:\n",
    "    print(\"D\")\n",
    "else:\n",
    "    print(\"F\")\n",
    "\n",
    "print(\"학점입니다.\")"
   ]
  },
  {
   "cell_type": "code",
   "execution_count": null,
   "metadata": {},
   "outputs": [
    {
     "name": "stdout",
     "output_type": "stream",
     "text": [
      "C+\n",
      "학점입니다.\n"
     ]
    }
   ],
   "source": [
    "score = int(input(\"점수를 입력하세요 : \"))\n",
    "\n",
    "if score >= 95:\n",
    "    print(\"A+\")\n",
    "elif score >= 90:\n",
    "    print(\"A0\")\n",
    "elif score >= 85:\n",
    "    print(\"B+\")\n",
    "elif score >= 80:\n",
    "    print(\"B0\")\n",
    "elif score >= 75:\n",
    "    print(\"C+\")\n",
    "elif score >= 70:\n",
    "    print(\"C0\")\n",
    "elif score >= 65:\n",
    "    print(\"D+\")\n",
    "elif score >= 60:\n",
    "    print(\"D0\")\n",
    "else:\n",
    "    print(\"F\")\n",
    "\n",
    "print(\"학점입니다.\")"
   ]
  },
  {
   "cell_type": "markdown",
   "metadata": {},
   "source": [
    "나이 판별기\n",
    "\n",
    "1. 나이를 입력하세요 : 메시지를 출력하면서 나이 입력 받기\n",
    "\n",
    "2. 13 미만 : 어린이\n",
    "\n",
    "13세이상 20세 미만 : 청소년\n",
    "\n",
    "20세 이상 60세 미만 : 성인\n",
    "\n",
    "그 외 나이대 노년층 \n",
    "\n",
    "이걸 출력하는 프로그램 작성하시오"
   ]
  },
  {
   "cell_type": "code",
   "execution_count": null,
   "metadata": {},
   "outputs": [
    {
     "name": "stdout",
     "output_type": "stream",
     "text": [
      "노년층\n"
     ]
    }
   ],
   "source": [
    "age = int(input(\"나이를 입력하세요 : \"))\n",
    "\n",
    "if age < 13:\n",
    "    print(\"어린이\")\n",
    "elif 13 <= age < 20:\n",
    "    print(\"청소년\")\n",
    "elif 20 <= age < 60:\n",
    "    print(\"성인\")\n",
    "else:\n",
    "    print(\"노년층\")\n",
    "\n",
    "# 추가한다면 age -1 입력이 들어간 경우는 \n",
    "# 나이 입력 잘 못되었다고 메시지 표시"
   ]
  },
  {
   "cell_type": "markdown",
   "metadata": {},
   "source": [
    "## 삼항 연산자"
   ]
  },
  {
   "cell_type": "code",
   "execution_count": 22,
   "metadata": {},
   "outputs": [
    {
     "name": "stdout",
     "output_type": "stream",
     "text": [
      "B\n"
     ]
    }
   ],
   "source": [
    "score = 85\n",
    "grade = \"\"\n",
    "\n",
    "if score >= 90:\n",
    "    grade=\"A\"\n",
    "else:\n",
    "    grade=\"B\"\n",
    "\n",
    "print(grade)"
   ]
  },
  {
   "cell_type": "markdown",
   "metadata": {},
   "source": [
    "값1 if 조건 else 값2"
   ]
  },
  {
   "cell_type": "code",
   "execution_count": null,
   "metadata": {},
   "outputs": [
    {
     "name": "stdout",
     "output_type": "stream",
     "text": [
      "B\n"
     ]
    }
   ],
   "source": [
    "score = 85\n",
    "grade = (\"A\" if score>=90 else \"B\")\n",
    "print(grade)"
   ]
  },
  {
   "cell_type": "markdown",
   "metadata": {},
   "source": [
    "다른 언어의 삼항 연산자도 있음\n",
    "\n",
    "조건식 ? 값 또는 연산식 : 값 또는 연산식"
   ]
  },
  {
   "cell_type": "code",
   "execution_count": 26,
   "metadata": {},
   "outputs": [
    {
     "name": "stdout",
     "output_type": "stream",
     "text": [
      "B\n"
     ]
    }
   ],
   "source": [
    "print(\"A\" if score>=90 else \"B\")"
   ]
  },
  {
   "cell_type": "markdown",
   "metadata": {},
   "source": [
    "if 문 응용\n",
    "\n",
    "파이썬 자료형 중에 리스트가 있음"
   ]
  },
  {
   "cell_type": "code",
   "execution_count": 28,
   "metadata": {},
   "outputs": [
    {
     "name": "stdout",
     "output_type": "stream",
     "text": [
      "['사과', '배', '딸기', '포도']\n"
     ]
    }
   ],
   "source": [
    "fruit = [\"사과\",\"배\",\"딸기\",\"포도\"]\n",
    "print(fruit)"
   ]
  },
  {
   "cell_type": "code",
   "execution_count": 30,
   "metadata": {},
   "outputs": [
    {
     "name": "stdout",
     "output_type": "stream",
     "text": [
      "['사과', '배', '딸기', '포도', '귤', '귤']\n",
      "딸기가 있네요!\n"
     ]
    }
   ],
   "source": [
    "fruit.append(\"귤\")\n",
    "print(fruit)\n",
    "\n",
    "if '딸기' in fruit:\n",
    "    print(\"딸기가 있네요!\")"
   ]
  },
  {
   "cell_type": "code",
   "execution_count": null,
   "metadata": {},
   "outputs": [
    {
     "name": "stdout",
     "output_type": "stream",
     "text": [
      "생성된 리스트 [7, 3, 0, 5, 7, 0, 9, 5, 0, 5]\n",
      "숫자 : 0\n",
      "숫자 : 1\n",
      "숫자 1는(은) 리스트에 없네요.\n",
      "숫자 : 2\n",
      "숫자 2는(은) 리스트에 없네요.\n",
      "숫자 : 3\n",
      "숫자 : 4\n",
      "숫자 4는(은) 리스트에 없네요.\n",
      "숫자 : 5\n",
      "숫자 : 6\n",
      "숫자 6는(은) 리스트에 없네요.\n",
      "숫자 : 7\n",
      "숫자 : 8\n",
      "숫자 8는(은) 리스트에 없네요.\n",
      "숫자 : 9\n"
     ]
    }
   ],
   "source": [
    "import random # random 난수 발생 모듈(라이브러리)\n",
    "# 모듈 읽어오기, 모듈 : 남들이 이미 작성해놓은 클래스, 함수 꾸러미\n",
    "\n",
    "numbers = []\n",
    "# 랜덤한 숫자를 저장하기 위한 빈 리스트를 생성\n",
    "\n",
    "# 반복문을 위용해서 numbers 10개의 \n",
    "# random하게 생성된 정수를 입력 (0 ~ 10)사이\n",
    "for num in range(0, 10):\n",
    "    numbers.append(random.randrange(0, 10))\n",
    "\n",
    "# 생성된 number 리스트를 보여줌\n",
    "print(\"생성된 리스트\", numbers)\n",
    "\n",
    "# 0에서 9까지의 숫자 1씩 증가하면서 numbers에 있는지 확인하는 구문\n",
    "for num in range(0, 10):\n",
    "    print(\"숫자 :\", num)\n",
    "    if num not in numbers:\n",
    "        print(\"숫자 %d는(은) 리스트에 없네요.\" % num)\n"
   ]
  },
  {
   "cell_type": "markdown",
   "metadata": {},
   "source": [
    "for 문 : 반복문\n",
    "\n",
    "반복한다는 의미"
   ]
  },
  {
   "cell_type": "code",
   "execution_count": 33,
   "metadata": {},
   "outputs": [
    {
     "name": "stdout",
     "output_type": "stream",
     "text": [
      "숫자 0\n",
      "숫자 1\n",
      "숫자 2\n",
      "숫자 3\n",
      "숫자 4\n"
     ]
    }
   ],
   "source": [
    "num = 0\n",
    "print(\"숫자\", num)\n",
    "num = 1\n",
    "print(\"숫자\", num)\n",
    "num = 2\n",
    "print(\"숫자\", num)\n",
    "num = 3\n",
    "print(\"숫자\", num)\n",
    "num = 4\n",
    "print(\"숫자\", num)"
   ]
  },
  {
   "cell_type": "code",
   "execution_count": 32,
   "metadata": {},
   "outputs": [
    {
     "name": "stdout",
     "output_type": "stream",
     "text": [
      "숫자 0\n",
      "숫자 1\n",
      "숫자 2\n",
      "숫자 3\n",
      "숫자 4\n"
     ]
    }
   ],
   "source": [
    "for num in range(0,5):\n",
    "    print(\"숫자\", num)"
   ]
  },
  {
   "cell_type": "markdown",
   "metadata": {},
   "source": [
    "첫번째 숫자에서 두번째 숫자까지의 정수합을 구하는 프로그램\n",
    "\n",
    "예) 첫번째 숫자 1\n",
    "\n",
    "두번째 숫자 100\n",
    "\n",
    "1부터 100까지의 정수합을 구하는 프로그램\n",
    "\n",
    "입력은 첫번째 숫자를 입력하시오, 두번째 숫자를 입력하시오\n",
    "\n",
    "for 반복문 이용"
   ]
  },
  {
   "cell_type": "code",
   "execution_count": null,
   "metadata": {},
   "outputs": [
    {
     "name": "stdout",
     "output_type": "stream",
     "text": [
      "i : 1\n",
      "answer : 1\n",
      "i : 2\n",
      "answer : 2\n",
      "i : 3\n",
      "answer : 3\n",
      "i : 4\n",
      "answer : 4\n",
      "i : 5\n",
      "answer : 5\n",
      "i : 6\n",
      "answer : 6\n",
      "i : 7\n",
      "answer : 7\n",
      "i : 8\n",
      "answer : 8\n",
      "i : 9\n",
      "answer : 9\n",
      "i : 10\n",
      "answer : 10\n",
      "i : 11\n",
      "answer : 11\n",
      "i : 12\n",
      "answer : 12\n",
      "i : 13\n",
      "answer : 13\n",
      "i : 14\n",
      "answer : 14\n",
      "i : 15\n",
      "answer : 15\n",
      "i : 16\n",
      "answer : 16\n",
      "i : 17\n",
      "answer : 17\n",
      "i : 18\n",
      "answer : 18\n",
      "i : 19\n",
      "answer : 19\n",
      "i : 20\n",
      "answer : 20\n",
      "i : 21\n",
      "answer : 21\n",
      "i : 22\n",
      "answer : 22\n",
      "i : 23\n",
      "answer : 23\n",
      "i : 24\n",
      "answer : 24\n",
      "i : 25\n",
      "answer : 25\n",
      "i : 26\n",
      "answer : 26\n",
      "i : 27\n",
      "answer : 27\n",
      "i : 28\n",
      "answer : 28\n",
      "i : 29\n",
      "answer : 29\n",
      "i : 30\n",
      "answer : 30\n",
      "i : 31\n",
      "answer : 31\n",
      "i : 32\n",
      "answer : 32\n",
      "i : 33\n",
      "answer : 33\n",
      "i : 34\n",
      "answer : 34\n",
      "i : 35\n",
      "answer : 35\n",
      "i : 36\n",
      "answer : 36\n",
      "i : 37\n",
      "answer : 37\n",
      "i : 38\n",
      "answer : 38\n",
      "i : 39\n",
      "answer : 39\n",
      "i : 40\n",
      "answer : 40\n",
      "i : 41\n",
      "answer : 41\n",
      "i : 42\n",
      "answer : 42\n",
      "i : 43\n",
      "answer : 43\n",
      "i : 44\n",
      "answer : 44\n",
      "i : 45\n",
      "answer : 45\n",
      "i : 46\n",
      "answer : 46\n",
      "i : 47\n",
      "answer : 47\n",
      "i : 48\n",
      "answer : 48\n",
      "i : 49\n",
      "answer : 49\n",
      "i : 50\n",
      "answer : 50\n",
      "i : 51\n",
      "answer : 51\n",
      "i : 52\n",
      "answer : 52\n",
      "i : 53\n",
      "answer : 53\n",
      "i : 54\n",
      "answer : 54\n",
      "i : 55\n",
      "answer : 55\n",
      "i : 56\n",
      "answer : 56\n",
      "i : 57\n",
      "answer : 57\n",
      "i : 58\n",
      "answer : 58\n",
      "i : 59\n",
      "answer : 59\n",
      "i : 60\n",
      "answer : 60\n",
      "i : 61\n",
      "answer : 61\n",
      "i : 62\n",
      "answer : 62\n",
      "i : 63\n",
      "answer : 63\n",
      "i : 64\n",
      "answer : 64\n",
      "i : 65\n",
      "answer : 65\n",
      "i : 66\n",
      "answer : 66\n",
      "i : 67\n",
      "answer : 67\n",
      "i : 68\n",
      "answer : 68\n",
      "i : 69\n",
      "answer : 69\n",
      "i : 70\n",
      "answer : 70\n",
      "i : 71\n",
      "answer : 71\n",
      "i : 72\n",
      "answer : 72\n",
      "i : 73\n",
      "answer : 73\n",
      "i : 74\n",
      "answer : 74\n",
      "i : 75\n",
      "answer : 75\n",
      "i : 76\n",
      "answer : 76\n",
      "i : 77\n",
      "answer : 77\n",
      "i : 78\n",
      "answer : 78\n",
      "i : 79\n",
      "answer : 79\n",
      "i : 80\n",
      "answer : 80\n",
      "i : 81\n",
      "answer : 81\n",
      "i : 82\n",
      "answer : 82\n",
      "i : 83\n",
      "answer : 83\n",
      "i : 84\n",
      "answer : 84\n",
      "i : 85\n",
      "answer : 85\n",
      "i : 86\n",
      "answer : 86\n",
      "i : 87\n",
      "answer : 87\n",
      "i : 88\n",
      "answer : 88\n",
      "i : 89\n",
      "answer : 89\n",
      "i : 90\n",
      "answer : 90\n",
      "i : 91\n",
      "answer : 91\n",
      "i : 92\n",
      "answer : 92\n",
      "i : 93\n",
      "answer : 93\n",
      "i : 94\n",
      "answer : 94\n",
      "i : 95\n",
      "answer : 95\n",
      "i : 96\n",
      "answer : 96\n",
      "i : 97\n",
      "answer : 97\n",
      "i : 98\n",
      "answer : 98\n",
      "i : 99\n",
      "answer : 99\n",
      "i : 100\n",
      "answer : 100\n",
      "%d + ... + %d는 %d입니다. (1, 100, 100)\n"
     ]
    }
   ],
   "source": [
    "\n",
    "num1 = int(input(\"*** 첫 번째 숫자를 입력하세요 : \"))\n",
    "num2 = int(input(\"*** 두 번째 숫자를 입력하세요 : \"))\n",
    "\n",
    "# 예시) range(0, 10) \n",
    "# 0, 1, 2, 3, 4, 5, 6, 7, 8, 9\n",
    "# 예시) range(3, 6)\n",
    "# 3, 4, 5\n",
    "answer = 0\n",
    "\n",
    "for i in range(num1, num2 + 1): \n",
    "    print(\"i : %d\"% i)\n",
    "    answer = answer + i\n",
    "    print(\"answer : %d\"% answer)\n",
    "\n",
    "print(\"%d + ... + %d는 %d입니다.\", (num1, num2, answer))"
   ]
  },
  {
   "cell_type": "markdown",
   "metadata": {},
   "source": [
    "C, C++, Java 같은 언어는 if, for 블록 스코프를 생성\n",
    "\n",
    "python은 블록 스코프가 없어서 if, for, while 같은 블록 안에서 선언된 변수를 블록 밖에서도 사용할 수 있습니다.\n",
    "\n",
    "python 함수에서는 지역변수로 사용이 가능합니다."
   ]
  }
 ],
 "metadata": {
  "kernelspec": {
   "display_name": "Python 3",
   "language": "python",
   "name": "python3"
  },
  "language_info": {
   "codemirror_mode": {
    "name": "ipython",
    "version": 3
   },
   "file_extension": ".py",
   "mimetype": "text/x-python",
   "name": "python",
   "nbconvert_exporter": "python",
   "pygments_lexer": "ipython3",
   "version": "3.13.0"
  }
 },
 "nbformat": 4,
 "nbformat_minor": 2
}
