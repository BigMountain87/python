{
 "cells": [
  {
   "cell_type": "markdown",
   "metadata": {},
   "source": [
    "Chapter 9 클래스"
   ]
  },
  {
   "cell_type": "code",
   "execution_count": null,
   "metadata": {},
   "outputs": [
    {
     "name": "stdout",
     "output_type": "stream",
     "text": [
      "3\n",
      "7\n"
     ]
    }
   ],
   "source": [
    "# calculator.py\n",
    "result = 0\n",
    "\n",
    "def add(num):\n",
    "    global result # 전역 변수로 사용\n",
    "    result += num  # 결괏값(result)에 입력값(num) 더하기\n",
    "    return result  # 결괏값 리턴\n",
    "\n",
    "print(add(3))\n",
    "print(add(4))\n",
    "\n",
    "# 기존의 결괏값을 저장하는 형태의 계산기"
   ]
  },
  {
   "cell_type": "markdown",
   "metadata": {},
   "source": [
    "한 프로그램 안에서 2대의 계산기가 필요한 상황이 발생하면 어떻게 해야하나?\n",
    "\n",
    "-> 계산기는 각각 결과를 유지해야하므로 add함수를 2개를 만들어서 사용"
   ]
  },
  {
   "cell_type": "code",
   "execution_count": null,
   "metadata": {},
   "outputs": [
    {
     "name": "stdout",
     "output_type": "stream",
     "text": [
      "3\n",
      "7\n",
      "3\n",
      "10\n"
     ]
    }
   ],
   "source": [
    "# calculator2.py\n",
    "result1 = 0\n",
    "result2 = 0\n",
    "\n",
    "def add1(num):  # 계산기1\n",
    "    global result1\n",
    "    result1 += num\n",
    "    return result1\n",
    "\n",
    "def add2(num):  # 계산기2\n",
    "    global result2\n",
    "    result2 += num\n",
    "    return result2\n",
    "\n",
    "\n",
    "print(add1(3))\n",
    "print(add1(4))\n",
    "print(add2(3))\n",
    "print(add2(7))\n"
   ]
  },
  {
   "cell_type": "markdown",
   "metadata": {},
   "source": [
    "계산기 3, 4, 5,개 10개가 필요한 경우에는 어떻게 할 것인가?\n",
    "\n",
    "-> 클래스가 필요\n",
    "\n",
    "결국은 코드 작성에 비효율적인 부분 제거하기 하기 위해서 사용\n",
    "\n",
    "반복문, \n",
    "\n",
    "함수 = 반복문, 조건문, 출력문, 자료 조합 되서 하나의 기능을 만듦\n",
    "\n",
    "전체적으로 공통적인 틀을 만들고 사용을 하면 편리함 => 클래스 개념"
   ]
  },
  {
   "cell_type": "code",
   "execution_count": null,
   "metadata": {},
   "outputs": [
    {
     "name": "stdout",
     "output_type": "stream",
     "text": [
      "3\n",
      "7\n",
      "3\n",
      "10\n"
     ]
    }
   ],
   "source": [
    "# calculator3.py\n",
    "class Calculator:\n",
    "    def __init__(self):\n",
    "        self.result = 0\n",
    "\n",
    "    def add(self, num):\n",
    "        self.result += num\n",
    "        return self.result\n",
    "\n",
    "cal1 = Calculator()\n",
    "cal2 = Calculator()\n",
    "\n",
    "print(cal1.add(3))\n",
    "print(cal1.add(4))\n",
    "print(cal2.add(3))\n",
    "print(cal2.add(7))\n"
   ]
  },
  {
   "cell_type": "markdown",
   "metadata": {},
   "source": [
    "클래스는 3개 이상의 반복되는 객체를 생성할 필요가 있을 때 만드는 것이 좋음"
   ]
  },
  {
   "cell_type": "markdown",
   "metadata": {},
   "source": [
    "계산기에 만약에 빼기 기능 넣느다면?"
   ]
  },
  {
   "cell_type": "code",
   "execution_count": null,
   "metadata": {},
   "outputs": [],
   "source": [
    "class Calculator:\n",
    "    def __init__(self):\n",
    "        self.result = 0\n",
    "\n",
    "    def add(self, num):\n",
    "        self.result += num\n",
    "        return self.result\n",
    "\n",
    "    def sub(self, num): # 뺄셈 부분\n",
    "        self.result -= num\n",
    "        return self.result\n"
   ]
  },
  {
   "cell_type": "markdown",
   "metadata": {},
   "source": [
    "과자틀 = 클래스\n",
    "\n",
    "과자틀로 찍어낸 과자는 = 객체\n",
    "\n",
    "클래스로 만든 객체에는 중요한 특징이 있음\n",
    "\n",
    "-> 객체마다 고유한 성격을 가진다. 예) 과자 틀로 만든 과자에 구멍을 뚫거나, 베어먹더라도 다른 과자에는 아무런 영향이 없음"
   ]
  },
  {
   "cell_type": "code",
   "execution_count": 5,
   "metadata": {},
   "outputs": [],
   "source": [
    "# 아무 기능이 없는 Cookie라는 클래스 생성\n",
    "class Cookie:\n",
    "    pass"
   ]
  },
  {
   "cell_type": "code",
   "execution_count": null,
   "metadata": {},
   "outputs": [],
   "source": [
    "# Cookie 클래스의 객체를 만듦\n",
    "a = Cookie()\n",
    "b = Cookie()"
   ]
  },
  {
   "cell_type": "markdown",
   "metadata": {},
   "source": [
    "사칙 연산 클래스를 만들기"
   ]
  },
  {
   "cell_type": "markdown",
   "metadata": {},
   "source": [
    "1. 클래스가 어떻게 생성되고, 어떤 동작을 해서 결과가 어떻게 보여 줄지 구상\n",
    "\n",
    "점프투 파이썬 클래스 내용 참조"
   ]
  },
  {
   "cell_type": "markdown",
   "metadata": {},
   "source": [
    "클래스 구조를 만들어 보기\n"
   ]
  },
  {
   "cell_type": "code",
   "execution_count": null,
   "metadata": {},
   "outputs": [],
   "source": [
    "class FourCal:\n",
    "    pass\n",
    "\n",
    "# 아무 내용이 없는 클래스 선언, 객체 생성은 가능함\n",
    "a = FourCal() # a라는 객체는 생성, FourCal의 인스턴스\n",
    "print(type(a))"
   ]
  },
  {
   "cell_type": "code",
   "execution_count": 10,
   "metadata": {},
   "outputs": [],
   "source": [
    "class FourCal:\n",
    "    def setdata(self, first, second): # 메서드의 매개변수\n",
    "        self.first = first # 메서드의 수행문\n",
    "        self.second = second # 메서드의 수행문\n",
    "\n",
    "# 아무 내용이 없는 클래스 선언, 객체 생성은 가능함\n",
    "a = FourCal() # a라는 객체는 생성, FourCal의 인스턴스\n",
    "a.setdata(4,2)"
   ]
  },
  {
   "cell_type": "code",
   "execution_count": 12,
   "metadata": {},
   "outputs": [
    {
     "name": "stdout",
     "output_type": "stream",
     "text": [
      "4\n",
      "2\n"
     ]
    }
   ],
   "source": [
    "print(a.first)\n",
    "print(a.second)"
   ]
  },
  {
   "cell_type": "code",
   "execution_count": 13,
   "metadata": {},
   "outputs": [
    {
     "data": {
      "text/plain": [
       "6"
      ]
     },
     "execution_count": 13,
     "metadata": {},
     "output_type": "execute_result"
    }
   ],
   "source": [
    "class FourCal:\n",
    "    def setdata(self, first, second): # 메서드의 매개변수\n",
    "        self.first = first # 메서드의 수행문\n",
    "        self.second = second # 메서드의 수행문\n",
    "    def add(self):\n",
    "        result = self.first + self.second\n",
    "        return result\n",
    "\n",
    "# 아무 내용이 없는 클래스 선언, 객체 생성은 가능함\n",
    "a = FourCal() # a라는 객체는 생성, FourCal의 인스턴스\n",
    "a.setdata(4,2)\n",
    "a.add()"
   ]
  },
  {
   "cell_type": "code",
   "execution_count": 14,
   "metadata": {},
   "outputs": [
    {
     "data": {
      "text/plain": [
       "3"
      ]
     },
     "execution_count": 14,
     "metadata": {},
     "output_type": "execute_result"
    }
   ],
   "source": [
    "b = FourCal()\n",
    "b.setdata(3,7)\n",
    "b.first"
   ]
  },
  {
   "cell_type": "markdown",
   "metadata": {},
   "source": [
    "덧셈 외에 다른 뺄셈, 곱셈, 나눗셈 함수를 추가하기"
   ]
  },
  {
   "cell_type": "code",
   "execution_count": null,
   "metadata": {},
   "outputs": [],
   "source": [
    "class FourCal:\n",
    "    def setdata(self, first, second): # 메서드의 매개변수\n",
    "        self.first = first # 메서드의 수행문\n",
    "        self.second = second # 메서드의 수행문\n",
    "    def add(self):\n",
    "        result = self.first + self.second\n",
    "        return result\n",
    "    def sub(self):\n",
    "        result = self.first - self.second\n",
    "        return result\n",
    "    def mul(self):\n",
    "        result = self.first * self.second\n",
    "        return result\n",
    "    def div(self):\n",
    "        result = self.first / self.second\n",
    "        return result\n",
    "# 아무 내용이 없는 클래스 선언, 객체 생성은 가능함\n",
    "a = FourCal() # a라는 객체는 생성, FourCal의 인스턴스\n",
    "a.setdata(4,2)\n",
    "a.add()"
   ]
  }
 ],
 "metadata": {
  "kernelspec": {
   "display_name": "Python 3",
   "language": "python",
   "name": "python3"
  },
  "language_info": {
   "codemirror_mode": {
    "name": "ipython",
    "version": 3
   },
   "file_extension": ".py",
   "mimetype": "text/x-python",
   "name": "python",
   "nbconvert_exporter": "python",
   "pygments_lexer": "ipython3",
   "version": "3.13.0"
  }
 },
 "nbformat": 4,
 "nbformat_minor": 2
}
